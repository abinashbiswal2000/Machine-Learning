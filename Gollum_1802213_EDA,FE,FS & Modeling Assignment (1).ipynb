{
 "cells": [
  {
   "cell_type": "code",
   "execution_count": 1,
   "metadata": {},
   "outputs": [],
   "source": [
    "import numpy as np\n",
    "import pandas as pd\n",
    "import seaborn as sns\n",
    "import matplotlib.pyplot as plt\n",
    "%matplotlib inline"
   ]
  },
  {
   "cell_type": "code",
   "execution_count": 2,
   "metadata": {},
   "outputs": [],
   "source": [
    "df = pd.read_csv('1802213.csv')"
   ]
  },
  {
   "cell_type": "code",
   "execution_count": 3,
   "metadata": {},
   "outputs": [
    {
     "data": {
      "text/html": [
       "<div>\n",
       "<style scoped>\n",
       "    .dataframe tbody tr th:only-of-type {\n",
       "        vertical-align: middle;\n",
       "    }\n",
       "\n",
       "    .dataframe tbody tr th {\n",
       "        vertical-align: top;\n",
       "    }\n",
       "\n",
       "    .dataframe thead th {\n",
       "        text-align: right;\n",
       "    }\n",
       "</style>\n",
       "<table border=\"1\" class=\"dataframe\">\n",
       "  <thead>\n",
       "    <tr style=\"text-align: right;\">\n",
       "      <th></th>\n",
       "      <th>business_code</th>\n",
       "      <th>cust_number</th>\n",
       "      <th>name_customer</th>\n",
       "      <th>clear_date</th>\n",
       "      <th>buisness_year</th>\n",
       "      <th>doc_id</th>\n",
       "      <th>posting_date</th>\n",
       "      <th>document_create_date</th>\n",
       "      <th>document_create_date.1</th>\n",
       "      <th>due_in_date</th>\n",
       "      <th>invoice_currency</th>\n",
       "      <th>document type</th>\n",
       "      <th>posting_id</th>\n",
       "      <th>area_business</th>\n",
       "      <th>total_open_amount</th>\n",
       "      <th>baseline_create_date</th>\n",
       "      <th>cust_payment_terms</th>\n",
       "      <th>invoice_id</th>\n",
       "      <th>isOpen</th>\n",
       "    </tr>\n",
       "  </thead>\n",
       "  <tbody>\n",
       "    <tr>\n",
       "      <td>0</td>\n",
       "      <td>U001</td>\n",
       "      <td>0200806580</td>\n",
       "      <td>BE trust</td>\n",
       "      <td>2020-02-20 00:00:00</td>\n",
       "      <td>2020.0</td>\n",
       "      <td>1.930493e+09</td>\n",
       "      <td>2020-02-12</td>\n",
       "      <td>20200207</td>\n",
       "      <td>20200212</td>\n",
       "      <td>20200227.0</td>\n",
       "      <td>USD</td>\n",
       "      <td>RV</td>\n",
       "      <td>1.0</td>\n",
       "      <td>NaN</td>\n",
       "      <td>9318.24</td>\n",
       "      <td>20200212.0</td>\n",
       "      <td>NAA8</td>\n",
       "      <td>1.930493e+09</td>\n",
       "      <td>0</td>\n",
       "    </tr>\n",
       "    <tr>\n",
       "      <td>1</td>\n",
       "      <td>U001</td>\n",
       "      <td>0200752302</td>\n",
       "      <td>KROGER foundation</td>\n",
       "      <td>2019-10-04 00:00:00</td>\n",
       "      <td>2019.0</td>\n",
       "      <td>1.929881e+09</td>\n",
       "      <td>2019-09-19</td>\n",
       "      <td>20190917</td>\n",
       "      <td>20190919</td>\n",
       "      <td>20191004.0</td>\n",
       "      <td>USD</td>\n",
       "      <td>RV</td>\n",
       "      <td>1.0</td>\n",
       "      <td>NaN</td>\n",
       "      <td>20568.01</td>\n",
       "      <td>20190919.0</td>\n",
       "      <td>NAA8</td>\n",
       "      <td>1.929881e+09</td>\n",
       "      <td>0</td>\n",
       "    </tr>\n",
       "    <tr>\n",
       "      <td>2</td>\n",
       "      <td>U001</td>\n",
       "      <td>0200769623</td>\n",
       "      <td>WAL-MAR trust</td>\n",
       "      <td>2019-12-17 00:00:00</td>\n",
       "      <td>2019.0</td>\n",
       "      <td>1.930205e+09</td>\n",
       "      <td>2019-11-30</td>\n",
       "      <td>20191130</td>\n",
       "      <td>20191130</td>\n",
       "      <td>20191215.0</td>\n",
       "      <td>USD</td>\n",
       "      <td>RV</td>\n",
       "      <td>1.0</td>\n",
       "      <td>NaN</td>\n",
       "      <td>1871.45</td>\n",
       "      <td>20191130.0</td>\n",
       "      <td>NAH4</td>\n",
       "      <td>1.930205e+09</td>\n",
       "      <td>0</td>\n",
       "    </tr>\n",
       "    <tr>\n",
       "      <td>3</td>\n",
       "      <td>U001</td>\n",
       "      <td>0200290370</td>\n",
       "      <td>BARGAIN  systems</td>\n",
       "      <td>2020-03-09 00:00:00</td>\n",
       "      <td>2020.0</td>\n",
       "      <td>1.930548e+09</td>\n",
       "      <td>2020-02-20</td>\n",
       "      <td>20200219</td>\n",
       "      <td>20200220</td>\n",
       "      <td>20200306.0</td>\n",
       "      <td>USD</td>\n",
       "      <td>RV</td>\n",
       "      <td>1.0</td>\n",
       "      <td>NaN</td>\n",
       "      <td>3912.71</td>\n",
       "      <td>20200220.0</td>\n",
       "      <td>NAA8</td>\n",
       "      <td>1.930548e+09</td>\n",
       "      <td>0</td>\n",
       "    </tr>\n",
       "    <tr>\n",
       "      <td>4</td>\n",
       "      <td>U001</td>\n",
       "      <td>0200803720</td>\n",
       "      <td>DEC corporation</td>\n",
       "      <td>2020-02-10 00:00:00</td>\n",
       "      <td>2020.0</td>\n",
       "      <td>1.930500e+09</td>\n",
       "      <td>2020-02-08</td>\n",
       "      <td>20200208</td>\n",
       "      <td>20200208</td>\n",
       "      <td>20200208.0</td>\n",
       "      <td>USD</td>\n",
       "      <td>RV</td>\n",
       "      <td>1.0</td>\n",
       "      <td>NaN</td>\n",
       "      <td>19953.85</td>\n",
       "      <td>20200201.0</td>\n",
       "      <td>NAM1</td>\n",
       "      <td>1.930500e+09</td>\n",
       "      <td>0</td>\n",
       "    </tr>\n",
       "  </tbody>\n",
       "</table>\n",
       "</div>"
      ],
      "text/plain": [
       "  business_code cust_number      name_customer           clear_date  \\\n",
       "0          U001  0200806580           BE trust  2020-02-20 00:00:00   \n",
       "1          U001  0200752302  KROGER foundation  2019-10-04 00:00:00   \n",
       "2          U001  0200769623      WAL-MAR trust  2019-12-17 00:00:00   \n",
       "3          U001  0200290370   BARGAIN  systems  2020-03-09 00:00:00   \n",
       "4          U001  0200803720    DEC corporation  2020-02-10 00:00:00   \n",
       "\n",
       "   buisness_year        doc_id posting_date  document_create_date  \\\n",
       "0         2020.0  1.930493e+09   2020-02-12              20200207   \n",
       "1         2019.0  1.929881e+09   2019-09-19              20190917   \n",
       "2         2019.0  1.930205e+09   2019-11-30              20191130   \n",
       "3         2020.0  1.930548e+09   2020-02-20              20200219   \n",
       "4         2020.0  1.930500e+09   2020-02-08              20200208   \n",
       "\n",
       "   document_create_date.1  due_in_date invoice_currency document type  \\\n",
       "0                20200212   20200227.0              USD            RV   \n",
       "1                20190919   20191004.0              USD            RV   \n",
       "2                20191130   20191215.0              USD            RV   \n",
       "3                20200220   20200306.0              USD            RV   \n",
       "4                20200208   20200208.0              USD            RV   \n",
       "\n",
       "   posting_id  area_business  total_open_amount  baseline_create_date  \\\n",
       "0         1.0            NaN            9318.24            20200212.0   \n",
       "1         1.0            NaN           20568.01            20190919.0   \n",
       "2         1.0            NaN            1871.45            20191130.0   \n",
       "3         1.0            NaN            3912.71            20200220.0   \n",
       "4         1.0            NaN           19953.85            20200201.0   \n",
       "\n",
       "  cust_payment_terms    invoice_id  isOpen  \n",
       "0               NAA8  1.930493e+09       0  \n",
       "1               NAA8  1.929881e+09       0  \n",
       "2               NAH4  1.930205e+09       0  \n",
       "3               NAA8  1.930548e+09       0  \n",
       "4               NAM1  1.930500e+09       0  "
      ]
     },
     "execution_count": 3,
     "metadata": {},
     "output_type": "execute_result"
    }
   ],
   "source": [
    "df.head()"
   ]
  },
  {
   "cell_type": "code",
   "execution_count": 4,
   "metadata": {},
   "outputs": [],
   "source": [
    "# , clear date - due in date"
   ]
  },
  {
   "cell_type": "code",
   "execution_count": 5,
   "metadata": {},
   "outputs": [],
   "source": [
    "df['clear_date'] = pd.to_datetime(df['clear_date'])\n",
    "df['due_in_date'] = pd.to_datetime(df['due_in_date'],format='%Y%m%d')\n",
    "df['document_create_date'] = pd.to_datetime(df['document_create_date'],format='%Y%m%d')\n",
    "df['document_create_date.1'] = pd.to_datetime(df['document_create_date.1'],format='%Y%m%d')\n",
    "df['baseline_create_date'] = pd.to_datetime(df['baseline_create_date'],format='%Y%m%d')\n",
    "df['posting_date'] = pd.to_datetime(df['posting_date'])\n",
    "\n",
    "\n",
    "df['Target'] = df['clear_date'] - df['due_in_date']"
   ]
  },
  {
   "cell_type": "code",
   "execution_count": 6,
   "metadata": {},
   "outputs": [
    {
     "data": {
      "text/html": [
       "<div>\n",
       "<style scoped>\n",
       "    .dataframe tbody tr th:only-of-type {\n",
       "        vertical-align: middle;\n",
       "    }\n",
       "\n",
       "    .dataframe tbody tr th {\n",
       "        vertical-align: top;\n",
       "    }\n",
       "\n",
       "    .dataframe thead th {\n",
       "        text-align: right;\n",
       "    }\n",
       "</style>\n",
       "<table border=\"1\" class=\"dataframe\">\n",
       "  <thead>\n",
       "    <tr style=\"text-align: right;\">\n",
       "      <th></th>\n",
       "      <th>business_code</th>\n",
       "      <th>cust_number</th>\n",
       "      <th>name_customer</th>\n",
       "      <th>clear_date</th>\n",
       "      <th>buisness_year</th>\n",
       "      <th>doc_id</th>\n",
       "      <th>posting_date</th>\n",
       "      <th>document_create_date</th>\n",
       "      <th>document_create_date.1</th>\n",
       "      <th>due_in_date</th>\n",
       "      <th>invoice_currency</th>\n",
       "      <th>document type</th>\n",
       "      <th>posting_id</th>\n",
       "      <th>area_business</th>\n",
       "      <th>total_open_amount</th>\n",
       "      <th>baseline_create_date</th>\n",
       "      <th>cust_payment_terms</th>\n",
       "      <th>invoice_id</th>\n",
       "      <th>isOpen</th>\n",
       "      <th>Target</th>\n",
       "    </tr>\n",
       "  </thead>\n",
       "  <tbody>\n",
       "    <tr>\n",
       "      <td>0</td>\n",
       "      <td>U001</td>\n",
       "      <td>0200806580</td>\n",
       "      <td>BE trust</td>\n",
       "      <td>2020-02-20</td>\n",
       "      <td>2020.0</td>\n",
       "      <td>1.930493e+09</td>\n",
       "      <td>2020-02-12</td>\n",
       "      <td>2020-02-07</td>\n",
       "      <td>2020-02-12</td>\n",
       "      <td>2020-02-27</td>\n",
       "      <td>USD</td>\n",
       "      <td>RV</td>\n",
       "      <td>1.0</td>\n",
       "      <td>NaN</td>\n",
       "      <td>9318.24</td>\n",
       "      <td>2020-02-12</td>\n",
       "      <td>NAA8</td>\n",
       "      <td>1.930493e+09</td>\n",
       "      <td>0</td>\n",
       "      <td>-7 days</td>\n",
       "    </tr>\n",
       "    <tr>\n",
       "      <td>1</td>\n",
       "      <td>U001</td>\n",
       "      <td>0200752302</td>\n",
       "      <td>KROGER foundation</td>\n",
       "      <td>2019-10-04</td>\n",
       "      <td>2019.0</td>\n",
       "      <td>1.929881e+09</td>\n",
       "      <td>2019-09-19</td>\n",
       "      <td>2019-09-17</td>\n",
       "      <td>2019-09-19</td>\n",
       "      <td>2019-10-04</td>\n",
       "      <td>USD</td>\n",
       "      <td>RV</td>\n",
       "      <td>1.0</td>\n",
       "      <td>NaN</td>\n",
       "      <td>20568.01</td>\n",
       "      <td>2019-09-19</td>\n",
       "      <td>NAA8</td>\n",
       "      <td>1.929881e+09</td>\n",
       "      <td>0</td>\n",
       "      <td>0 days</td>\n",
       "    </tr>\n",
       "    <tr>\n",
       "      <td>2</td>\n",
       "      <td>U001</td>\n",
       "      <td>0200769623</td>\n",
       "      <td>WAL-MAR trust</td>\n",
       "      <td>2019-12-17</td>\n",
       "      <td>2019.0</td>\n",
       "      <td>1.930205e+09</td>\n",
       "      <td>2019-11-30</td>\n",
       "      <td>2019-11-30</td>\n",
       "      <td>2019-11-30</td>\n",
       "      <td>2019-12-15</td>\n",
       "      <td>USD</td>\n",
       "      <td>RV</td>\n",
       "      <td>1.0</td>\n",
       "      <td>NaN</td>\n",
       "      <td>1871.45</td>\n",
       "      <td>2019-11-30</td>\n",
       "      <td>NAH4</td>\n",
       "      <td>1.930205e+09</td>\n",
       "      <td>0</td>\n",
       "      <td>2 days</td>\n",
       "    </tr>\n",
       "    <tr>\n",
       "      <td>3</td>\n",
       "      <td>U001</td>\n",
       "      <td>0200290370</td>\n",
       "      <td>BARGAIN  systems</td>\n",
       "      <td>2020-03-09</td>\n",
       "      <td>2020.0</td>\n",
       "      <td>1.930548e+09</td>\n",
       "      <td>2020-02-20</td>\n",
       "      <td>2020-02-19</td>\n",
       "      <td>2020-02-20</td>\n",
       "      <td>2020-03-06</td>\n",
       "      <td>USD</td>\n",
       "      <td>RV</td>\n",
       "      <td>1.0</td>\n",
       "      <td>NaN</td>\n",
       "      <td>3912.71</td>\n",
       "      <td>2020-02-20</td>\n",
       "      <td>NAA8</td>\n",
       "      <td>1.930548e+09</td>\n",
       "      <td>0</td>\n",
       "      <td>3 days</td>\n",
       "    </tr>\n",
       "    <tr>\n",
       "      <td>4</td>\n",
       "      <td>U001</td>\n",
       "      <td>0200803720</td>\n",
       "      <td>DEC corporation</td>\n",
       "      <td>2020-02-10</td>\n",
       "      <td>2020.0</td>\n",
       "      <td>1.930500e+09</td>\n",
       "      <td>2020-02-08</td>\n",
       "      <td>2020-02-08</td>\n",
       "      <td>2020-02-08</td>\n",
       "      <td>2020-02-08</td>\n",
       "      <td>USD</td>\n",
       "      <td>RV</td>\n",
       "      <td>1.0</td>\n",
       "      <td>NaN</td>\n",
       "      <td>19953.85</td>\n",
       "      <td>2020-02-01</td>\n",
       "      <td>NAM1</td>\n",
       "      <td>1.930500e+09</td>\n",
       "      <td>0</td>\n",
       "      <td>2 days</td>\n",
       "    </tr>\n",
       "  </tbody>\n",
       "</table>\n",
       "</div>"
      ],
      "text/plain": [
       "  business_code cust_number      name_customer clear_date  buisness_year  \\\n",
       "0          U001  0200806580           BE trust 2020-02-20         2020.0   \n",
       "1          U001  0200752302  KROGER foundation 2019-10-04         2019.0   \n",
       "2          U001  0200769623      WAL-MAR trust 2019-12-17         2019.0   \n",
       "3          U001  0200290370   BARGAIN  systems 2020-03-09         2020.0   \n",
       "4          U001  0200803720    DEC corporation 2020-02-10         2020.0   \n",
       "\n",
       "         doc_id posting_date document_create_date document_create_date.1  \\\n",
       "0  1.930493e+09   2020-02-12           2020-02-07             2020-02-12   \n",
       "1  1.929881e+09   2019-09-19           2019-09-17             2019-09-19   \n",
       "2  1.930205e+09   2019-11-30           2019-11-30             2019-11-30   \n",
       "3  1.930548e+09   2020-02-20           2020-02-19             2020-02-20   \n",
       "4  1.930500e+09   2020-02-08           2020-02-08             2020-02-08   \n",
       "\n",
       "  due_in_date invoice_currency document type  posting_id  area_business  \\\n",
       "0  2020-02-27              USD            RV         1.0            NaN   \n",
       "1  2019-10-04              USD            RV         1.0            NaN   \n",
       "2  2019-12-15              USD            RV         1.0            NaN   \n",
       "3  2020-03-06              USD            RV         1.0            NaN   \n",
       "4  2020-02-08              USD            RV         1.0            NaN   \n",
       "\n",
       "   total_open_amount baseline_create_date cust_payment_terms    invoice_id  \\\n",
       "0            9318.24           2020-02-12               NAA8  1.930493e+09   \n",
       "1           20568.01           2019-09-19               NAA8  1.929881e+09   \n",
       "2            1871.45           2019-11-30               NAH4  1.930205e+09   \n",
       "3            3912.71           2020-02-20               NAA8  1.930548e+09   \n",
       "4           19953.85           2020-02-01               NAM1  1.930500e+09   \n",
       "\n",
       "   isOpen  Target  \n",
       "0       0 -7 days  \n",
       "1       0  0 days  \n",
       "2       0  2 days  \n",
       "3       0  3 days  \n",
       "4       0  2 days  "
      ]
     },
     "execution_count": 6,
     "metadata": {},
     "output_type": "execute_result"
    }
   ],
   "source": [
    "df.head()"
   ]
  },
  {
   "cell_type": "code",
   "execution_count": 7,
   "metadata": {
    "scrolled": true
   },
   "outputs": [
    {
     "data": {
      "text/html": [
       "<div>\n",
       "<style scoped>\n",
       "    .dataframe tbody tr th:only-of-type {\n",
       "        vertical-align: middle;\n",
       "    }\n",
       "\n",
       "    .dataframe tbody tr th {\n",
       "        vertical-align: top;\n",
       "    }\n",
       "\n",
       "    .dataframe thead th {\n",
       "        text-align: right;\n",
       "    }\n",
       "</style>\n",
       "<table border=\"1\" class=\"dataframe\">\n",
       "  <thead>\n",
       "    <tr style=\"text-align: right;\">\n",
       "      <th></th>\n",
       "      <th>business_code</th>\n",
       "      <th>cust_number</th>\n",
       "      <th>clear_date</th>\n",
       "      <th>buisness_year</th>\n",
       "      <th>doc_id</th>\n",
       "      <th>posting_date</th>\n",
       "      <th>document_create_date</th>\n",
       "      <th>document_create_date.1</th>\n",
       "      <th>due_in_date</th>\n",
       "      <th>invoice_currency</th>\n",
       "      <th>document type</th>\n",
       "      <th>posting_id</th>\n",
       "      <th>total_open_amount</th>\n",
       "      <th>baseline_create_date</th>\n",
       "      <th>cust_payment_terms</th>\n",
       "      <th>invoice_id</th>\n",
       "      <th>isOpen</th>\n",
       "      <th>Target</th>\n",
       "    </tr>\n",
       "  </thead>\n",
       "  <tbody>\n",
       "    <tr>\n",
       "      <td>0</td>\n",
       "      <td>U001</td>\n",
       "      <td>0200806580</td>\n",
       "      <td>2020-02-20</td>\n",
       "      <td>2020.0</td>\n",
       "      <td>1.930493e+09</td>\n",
       "      <td>2020-02-12</td>\n",
       "      <td>2020-02-07</td>\n",
       "      <td>2020-02-12</td>\n",
       "      <td>2020-02-27</td>\n",
       "      <td>USD</td>\n",
       "      <td>RV</td>\n",
       "      <td>1.0</td>\n",
       "      <td>9318.24</td>\n",
       "      <td>2020-02-12</td>\n",
       "      <td>NAA8</td>\n",
       "      <td>1.930493e+09</td>\n",
       "      <td>0</td>\n",
       "      <td>-7 days</td>\n",
       "    </tr>\n",
       "    <tr>\n",
       "      <td>1</td>\n",
       "      <td>U001</td>\n",
       "      <td>0200752302</td>\n",
       "      <td>2019-10-04</td>\n",
       "      <td>2019.0</td>\n",
       "      <td>1.929881e+09</td>\n",
       "      <td>2019-09-19</td>\n",
       "      <td>2019-09-17</td>\n",
       "      <td>2019-09-19</td>\n",
       "      <td>2019-10-04</td>\n",
       "      <td>USD</td>\n",
       "      <td>RV</td>\n",
       "      <td>1.0</td>\n",
       "      <td>20568.01</td>\n",
       "      <td>2019-09-19</td>\n",
       "      <td>NAA8</td>\n",
       "      <td>1.929881e+09</td>\n",
       "      <td>0</td>\n",
       "      <td>0 days</td>\n",
       "    </tr>\n",
       "    <tr>\n",
       "      <td>2</td>\n",
       "      <td>U001</td>\n",
       "      <td>0200769623</td>\n",
       "      <td>2019-12-17</td>\n",
       "      <td>2019.0</td>\n",
       "      <td>1.930205e+09</td>\n",
       "      <td>2019-11-30</td>\n",
       "      <td>2019-11-30</td>\n",
       "      <td>2019-11-30</td>\n",
       "      <td>2019-12-15</td>\n",
       "      <td>USD</td>\n",
       "      <td>RV</td>\n",
       "      <td>1.0</td>\n",
       "      <td>1871.45</td>\n",
       "      <td>2019-11-30</td>\n",
       "      <td>NAH4</td>\n",
       "      <td>1.930205e+09</td>\n",
       "      <td>0</td>\n",
       "      <td>2 days</td>\n",
       "    </tr>\n",
       "    <tr>\n",
       "      <td>3</td>\n",
       "      <td>U001</td>\n",
       "      <td>0200290370</td>\n",
       "      <td>2020-03-09</td>\n",
       "      <td>2020.0</td>\n",
       "      <td>1.930548e+09</td>\n",
       "      <td>2020-02-20</td>\n",
       "      <td>2020-02-19</td>\n",
       "      <td>2020-02-20</td>\n",
       "      <td>2020-03-06</td>\n",
       "      <td>USD</td>\n",
       "      <td>RV</td>\n",
       "      <td>1.0</td>\n",
       "      <td>3912.71</td>\n",
       "      <td>2020-02-20</td>\n",
       "      <td>NAA8</td>\n",
       "      <td>1.930548e+09</td>\n",
       "      <td>0</td>\n",
       "      <td>3 days</td>\n",
       "    </tr>\n",
       "    <tr>\n",
       "      <td>4</td>\n",
       "      <td>U001</td>\n",
       "      <td>0200803720</td>\n",
       "      <td>2020-02-10</td>\n",
       "      <td>2020.0</td>\n",
       "      <td>1.930500e+09</td>\n",
       "      <td>2020-02-08</td>\n",
       "      <td>2020-02-08</td>\n",
       "      <td>2020-02-08</td>\n",
       "      <td>2020-02-08</td>\n",
       "      <td>USD</td>\n",
       "      <td>RV</td>\n",
       "      <td>1.0</td>\n",
       "      <td>19953.85</td>\n",
       "      <td>2020-02-01</td>\n",
       "      <td>NAM1</td>\n",
       "      <td>1.930500e+09</td>\n",
       "      <td>0</td>\n",
       "      <td>2 days</td>\n",
       "    </tr>\n",
       "  </tbody>\n",
       "</table>\n",
       "</div>"
      ],
      "text/plain": [
       "  business_code cust_number clear_date  buisness_year        doc_id  \\\n",
       "0          U001  0200806580 2020-02-20         2020.0  1.930493e+09   \n",
       "1          U001  0200752302 2019-10-04         2019.0  1.929881e+09   \n",
       "2          U001  0200769623 2019-12-17         2019.0  1.930205e+09   \n",
       "3          U001  0200290370 2020-03-09         2020.0  1.930548e+09   \n",
       "4          U001  0200803720 2020-02-10         2020.0  1.930500e+09   \n",
       "\n",
       "  posting_date document_create_date document_create_date.1 due_in_date  \\\n",
       "0   2020-02-12           2020-02-07             2020-02-12  2020-02-27   \n",
       "1   2019-09-19           2019-09-17             2019-09-19  2019-10-04   \n",
       "2   2019-11-30           2019-11-30             2019-11-30  2019-12-15   \n",
       "3   2020-02-20           2020-02-19             2020-02-20  2020-03-06   \n",
       "4   2020-02-08           2020-02-08             2020-02-08  2020-02-08   \n",
       "\n",
       "  invoice_currency document type  posting_id  total_open_amount  \\\n",
       "0              USD            RV         1.0            9318.24   \n",
       "1              USD            RV         1.0           20568.01   \n",
       "2              USD            RV         1.0            1871.45   \n",
       "3              USD            RV         1.0            3912.71   \n",
       "4              USD            RV         1.0           19953.85   \n",
       "\n",
       "  baseline_create_date cust_payment_terms    invoice_id  isOpen  Target  \n",
       "0           2020-02-12               NAA8  1.930493e+09       0 -7 days  \n",
       "1           2019-09-19               NAA8  1.929881e+09       0  0 days  \n",
       "2           2019-11-30               NAH4  1.930205e+09       0  2 days  \n",
       "3           2020-02-20               NAA8  1.930548e+09       0  3 days  \n",
       "4           2020-02-01               NAM1  1.930500e+09       0  2 days  "
      ]
     },
     "execution_count": 7,
     "metadata": {},
     "output_type": "execute_result"
    }
   ],
   "source": [
    "df.drop(['name_customer'],axis=1,inplace=True)\n",
    "df.drop(['area_business'],axis=1,inplace=True)\n",
    "df.head()"
   ]
  },
  {
   "cell_type": "code",
   "execution_count": 8,
   "metadata": {},
   "outputs": [],
   "source": [
    "# Exploratory Data Analysis"
   ]
  },
  {
   "cell_type": "code",
   "execution_count": 9,
   "metadata": {},
   "outputs": [
    {
     "data": {
      "text/plain": [
       "<matplotlib.axes._subplots.AxesSubplot at 0x1eda1696708>"
      ]
     },
     "execution_count": 9,
     "metadata": {},
     "output_type": "execute_result"
    },
    {
     "data": {
      "image/png": "[encoded data removed]",
      "text/plain": [
       "<Figure size 720x432 with 1 Axes>"
      ]
     },
     "metadata": {
      "needs_background": "light"
     },
     "output_type": "display_data"
    }
   ],
   "source": [
    "plt.figure(figsize=(10,6))\n",
    "sns.barplot(x='business_code',y='total_open_amount',data=df,palette='magma')"
   ]
  },
  {
   "cell_type": "code",
   "execution_count": 10,
   "metadata": {},
   "outputs": [
    {
     "data": {
      "text/plain": [
       "<matplotlib.axes._subplots.AxesSubplot at 0x1eda3bbba08>"
      ]
     },
     "execution_count": 10,
     "metadata": {},
     "output_type": "execute_result"
    },
    {
     "data": {
      "image/png": "[encoded data removed]",
      "text/plain": [
       "<Figure size 720x432 with 1 Axes>"
      ]
     },
     "metadata": {
      "needs_background": "light"
     },
     "output_type": "display_data"
    }
   ],
   "source": [
    "plt.figure(figsize=(10,6))\n",
    "sns.barplot(x='business_code',y='total_open_amount',data=df,hue='buisness_year',palette='magma')"
   ]
  },
  {
   "cell_type": "code",
   "execution_count": 11,
   "metadata": {
    "scrolled": false
   },
   "outputs": [
    {
     "data": {
      "text/plain": [
       "<matplotlib.axes._subplots.AxesSubplot at 0x1eda3acaa48>"
      ]
     },
     "execution_count": 11,
     "metadata": {},
     "output_type": "execute_result"
    },
    {
     "data": {
      "image/png": "[encoded data removed]",
      "text/plain": [
       "<Figure size 720x432 with 1 Axes>"
      ]
     },
     "metadata": {
      "needs_background": "light"
     },
     "output_type": "display_data"
    }
   ],
   "source": [
    "plt.figure(figsize=(10,6))\n",
    "sns.barplot(x='business_code',y='total_open_amount',data=df,hue='invoice_currency',palette='magma')"
   ]
  },
  {
   "cell_type": "code",
   "execution_count": 12,
   "metadata": {},
   "outputs": [
    {
     "data": {
      "text/plain": [
       "<matplotlib.axes._subplots.AxesSubplot at 0x1eda3d3fc88>"
      ]
     },
     "execution_count": 12,
     "metadata": {},
     "output_type": "execute_result"
    },
    {
     "data": {
      "image/png": "[encoded data removed]",
      "text/plain": [
       "<Figure size 432x288 with 1 Axes>"
      ]
     },
     "metadata": {
      "needs_background": "light"
     },
     "output_type": "display_data"
    }
   ],
   "source": [
    "sns.barplot(x='invoice_currency',y='total_open_amount',data=df,palette='magma')"
   ]
  },
  {
   "cell_type": "code",
   "execution_count": 13,
   "metadata": {},
   "outputs": [
    {
     "data": {
      "text/plain": [
       "<matplotlib.axes._subplots.AxesSubplot at 0x1eda3c154c8>"
      ]
     },
     "execution_count": 13,
     "metadata": {},
     "output_type": "execute_result"
    },
    {
     "data": {
      "image/png": "[encoded data removed]",
      "text/plain": [
       "<Figure size 432x288 with 1 Axes>"
      ]
     },
     "metadata": {
      "needs_background": "light"
     },
     "output_type": "display_data"
    }
   ],
   "source": [
    "sns.barplot(x='invoice_currency',y='total_open_amount',data=df,hue='buisness_year',palette='magma')"
   ]
  },
  {
   "cell_type": "code",
   "execution_count": 15,
   "metadata": {},
   "outputs": [
    {
     "data": {
      "text/plain": [
       "<matplotlib.axes._subplots.AxesSubplot at 0x1eda3d92288>"
      ]
     },
     "execution_count": 15,
     "metadata": {},
     "output_type": "execute_result"
    },
    {
     "data": {
      "image/png": "[encoded data removed]",
      "text/plain": [
       "<Figure size 720x432 with 1 Axes>"
      ]
     },
     "metadata": {
      "needs_background": "light"
     },
     "output_type": "display_data"
    }
   ],
   "source": [
    "plt.figure(figsize=(10,6))\n",
    "sns.barplot(x='invoice_currency',y='total_open_amount',data=df\n",
    "            ,hue='business_code',palette='rainbow')"
   ]
  },
  {
   "cell_type": "code",
   "execution_count": 16,
   "metadata": {},
   "outputs": [
    {
     "data": {
      "text/plain": [
       "<matplotlib.axes._subplots.AxesSubplot at 0x1eda3e43388>"
      ]
     },
     "execution_count": 16,
     "metadata": {},
     "output_type": "execute_result"
    },
    {
     "data": {
      "image/png": "[encoded data removed]",
      "text/plain": [
       "<Figure size 432x288 with 1 Axes>"
      ]
     },
     "metadata": {
      "needs_background": "light"
     },
     "output_type": "display_data"
    }
   ],
   "source": [
    "sns.barplot(x='buisness_year',y='total_open_amount',data=df,palette='rainbow')"
   ]
  },
  {
   "cell_type": "code",
   "execution_count": 17,
   "metadata": {},
   "outputs": [
    {
     "data": {
      "text/plain": [
       "<matplotlib.axes._subplots.AxesSubplot at 0x1eda3e94cc8>"
      ]
     },
     "execution_count": 17,
     "metadata": {},
     "output_type": "execute_result"
    },
    {
     "data": {
      "image/png": "[encoded data removed]",
      "text/plain": [
       "<Figure size 720x432 with 1 Axes>"
      ]
     },
     "metadata": {
      "needs_background": "light"
     },
     "output_type": "display_data"
    }
   ],
   "source": [
    "plt.figure(figsize=(10,6))\n",
    "sns.barplot(x='buisness_year',y='total_open_amount',data=df\n",
    "            ,hue='invoice_currency',palette='rainbow')"
   ]
  },
  {
   "cell_type": "code",
   "execution_count": 18,
   "metadata": {},
   "outputs": [
    {
     "data": {
      "text/plain": [
       "<matplotlib.axes._subplots.AxesSubplot at 0x1eda3f1a2c8>"
      ]
     },
     "execution_count": 18,
     "metadata": {},
     "output_type": "execute_result"
    },
    {
     "data": {
      "image/png": "[encoded data removed]",
      "text/plain": [
       "<Figure size 720x432 with 1 Axes>"
      ]
     },
     "metadata": {
      "needs_background": "light"
     },
     "output_type": "display_data"
    }
   ],
   "source": [
    "plt.figure(figsize=(10,6))\n",
    "sns.barplot(x='buisness_year',y='total_open_amount',data=df\n",
    "            ,hue='business_code',palette='rainbow')"
   ]
  },
  {
   "cell_type": "code",
   "execution_count": 18,
   "metadata": {},
   "outputs": [
    {
     "name": "stderr",
     "output_type": "stream",
     "text": [
      "C:\\Users\\KIIT\\Anaconda3\\lib\\site-packages\\numpy\\lib\\histograms.py:824: RuntimeWarning: invalid value encountered in greater_equal\n",
      "  keep = (tmp_a >= first_edge)\n",
      "C:\\Users\\KIIT\\Anaconda3\\lib\\site-packages\\numpy\\lib\\histograms.py:825: RuntimeWarning: invalid value encountered in less_equal\n",
      "  keep &= (tmp_a <= last_edge)\n"
     ]
    },
    {
     "data": {
      "text/plain": [
       "<seaborn.axisgrid.PairGrid at 0x2e2932a6f08>"
      ]
     },
     "execution_count": 18,
     "metadata": {},
     "output_type": "execute_result"
    },
    {
     "data": {
      "image/png": "[encoded data removed]",
      "text/plain": [
       "<Figure size 1080x1080 with 42 Axes>"
      ]
     },
     "metadata": {
      "needs_background": "light"
     },
     "output_type": "display_data"
    }
   ],
   "source": [
    "sns.pairplot(df,palette='rainbow')"
   ]
  },
  {
   "cell_type": "code",
   "execution_count": 19,
   "metadata": {
    "scrolled": true
   },
   "outputs": [
    {
     "data": {
      "text/plain": [
       "<matplotlib.axes._subplots.AxesSubplot at 0x2e294432f08>"
      ]
     },
     "execution_count": 19,
     "metadata": {},
     "output_type": "execute_result"
    },
    {
     "data": {
      "image/png": "[encoded data removed]",
      "text/plain": [
       "<Figure size 432x288 with 1 Axes>"
      ]
     },
     "metadata": {
      "needs_background": "light"
     },
     "output_type": "display_data"
    }
   ],
   "source": [
    "sns.countplot(data=df,x='business_code')"
   ]
  },
  {
   "cell_type": "code",
   "execution_count": 20,
   "metadata": {},
   "outputs": [
    {
     "data": {
      "text/plain": [
       "<matplotlib.axes._subplots.AxesSubplot at 0x2e294930ec8>"
      ]
     },
     "execution_count": 20,
     "metadata": {},
     "output_type": "execute_result"
    },
    {
     "data": {
      "image/png": "[encoded data removed]",
      "text/plain": [
       "<Figure size 432x288 with 1 Axes>"
      ]
     },
     "metadata": {
      "needs_background": "light"
     },
     "output_type": "display_data"
    }
   ],
   "source": [
    "sns.countplot(data=df,x='invoice_currency')"
   ]
  },
  {
   "cell_type": "code",
   "execution_count": 21,
   "metadata": {},
   "outputs": [
    {
     "data": {
      "text/plain": [
       "<matplotlib.axes._subplots.AxesSubplot at 0x2e2949b5ac8>"
      ]
     },
     "execution_count": 21,
     "metadata": {},
     "output_type": "execute_result"
    },
    {
     "data": {
      "image/png": "[encoded data removed]",
      "text/plain": [
       "<Figure size 720x432 with 1 Axes>"
      ]
     },
     "metadata": {
      "needs_background": "light"
     },
     "output_type": "display_data"
    }
   ],
   "source": [
    "plt.figure(figsize=(10,6))\n",
    "sns.boxplot(data=df,x='buisness_year',y='total_open_amount')"
   ]
  },
  {
   "cell_type": "code",
   "execution_count": 22,
   "metadata": {},
   "outputs": [
    {
     "data": {
      "text/plain": [
       "<matplotlib.axes._subplots.AxesSubplot at 0x2e294b78208>"
      ]
     },
     "execution_count": 22,
     "metadata": {},
     "output_type": "execute_result"
    },
    {
     "data": {
      "image/png": "[encoded data removed]",
      "text/plain": [
       "<Figure size 720x432 with 1 Axes>"
      ]
     },
     "metadata": {
      "needs_background": "light"
     },
     "output_type": "display_data"
    }
   ],
   "source": [
    "plt.figure(figsize=(10,6))\n",
    "sns.boxplot(data=df,x='buisness_year',y='total_open_amount',hue='invoice_currency')"
   ]
  },
  {
   "cell_type": "code",
   "execution_count": 23,
   "metadata": {},
   "outputs": [
    {
     "data": {
      "text/plain": [
       "<matplotlib.axes._subplots.AxesSubplot at 0x2e294b87a88>"
      ]
     },
     "execution_count": 23,
     "metadata": {},
     "output_type": "execute_result"
    },
    {
     "data": {
      "image/png": "[encoded data removed]",
      "text/plain": [
       "<Figure size 720x432 with 1 Axes>"
      ]
     },
     "metadata": {
      "needs_background": "light"
     },
     "output_type": "display_data"
    }
   ],
   "source": [
    "plt.figure(figsize=(10,6))\n",
    "sns.boxplot(data=df,x='business_code',y='total_open_amount')"
   ]
  },
  {
   "cell_type": "code",
   "execution_count": 24,
   "metadata": {},
   "outputs": [
    {
     "data": {
      "text/plain": [
       "<matplotlib.axes._subplots.AxesSubplot at 0x2e294bb5d48>"
      ]
     },
     "execution_count": 24,
     "metadata": {},
     "output_type": "execute_result"
    },
    {
     "data": {
      "image/png": "[encoded data removed]",
      "text/plain": [
       "<Figure size 720x504 with 1 Axes>"
      ]
     },
     "metadata": {
      "needs_background": "light"
     },
     "output_type": "display_data"
    }
   ],
   "source": [
    "plt.figure(figsize=(10,7))\n",
    "sns.distplot(df['total_open_amount'],bins=50)"
   ]
  },
  {
   "cell_type": "code",
   "execution_count": null,
   "metadata": {},
   "outputs": [],
   "source": []
  },
  {
   "cell_type": "code",
   "execution_count": null,
   "metadata": {},
   "outputs": [],
   "source": []
  },
  {
   "cell_type": "code",
   "execution_count": null,
   "metadata": {},
   "outputs": [],
   "source": []
  },
  {
   "cell_type": "code",
   "execution_count": 25,
   "metadata": {},
   "outputs": [],
   "source": [
    "# Converting all the columns into numerical values for machine Learning Processing"
   ]
  },
  {
   "cell_type": "code",
   "execution_count": 26,
   "metadata": {},
   "outputs": [],
   "source": [
    "def impute_business_code(cols):\n",
    "    b_code = cols\n",
    "    if b_code == 'U001':\n",
    "        return 1\n",
    "    elif b_code == 'CA02':\n",
    "        return 2\n",
    "    elif b_code == 'U013':\n",
    "        return 3\n",
    "    elif b_code == 'U002':\n",
    "        return 4\n",
    "    elif b_code == 'U005':\n",
    "        return 5\n",
    "    elif b_code == 'U007':\n",
    "        return 0"
   ]
  },
  {
   "cell_type": "code",
   "execution_count": 27,
   "metadata": {},
   "outputs": [],
   "source": [
    "df['business_code'] = df['business_code'].apply(impute_business_code)#,axis=1"
   ]
  },
  {
   "cell_type": "code",
   "execution_count": 28,
   "metadata": {},
   "outputs": [],
   "source": [
    "df['invoice_currency'] = pd.get_dummies(df['invoice_currency'],drop_first=True)\n",
    "df['document type'] = pd.get_dummies(df['document type'],drop_first=True)"
   ]
  },
  {
   "cell_type": "code",
   "execution_count": 29,
   "metadata": {
    "scrolled": true
   },
   "outputs": [
    {
     "data": {
      "text/html": [
       "<div>\n",
       "<style scoped>\n",
       "    .dataframe tbody tr th:only-of-type {\n",
       "        vertical-align: middle;\n",
       "    }\n",
       "\n",
       "    .dataframe tbody tr th {\n",
       "        vertical-align: top;\n",
       "    }\n",
       "\n",
       "    .dataframe thead th {\n",
       "        text-align: right;\n",
       "    }\n",
       "</style>\n",
       "<table border=\"1\" class=\"dataframe\">\n",
       "  <thead>\n",
       "    <tr style=\"text-align: right;\">\n",
       "      <th></th>\n",
       "      <th>business_code</th>\n",
       "      <th>cust_number</th>\n",
       "      <th>clear_date</th>\n",
       "      <th>buisness_year</th>\n",
       "      <th>doc_id</th>\n",
       "      <th>posting_date</th>\n",
       "      <th>document_create_date</th>\n",
       "      <th>document_create_date.1</th>\n",
       "      <th>due_in_date</th>\n",
       "      <th>invoice_currency</th>\n",
       "      <th>document type</th>\n",
       "      <th>posting_id</th>\n",
       "      <th>total_open_amount</th>\n",
       "      <th>baseline_create_date</th>\n",
       "      <th>cust_payment_terms</th>\n",
       "      <th>invoice_id</th>\n",
       "      <th>isOpen</th>\n",
       "      <th>Target</th>\n",
       "    </tr>\n",
       "  </thead>\n",
       "  <tbody>\n",
       "    <tr>\n",
       "      <td>0</td>\n",
       "      <td>1</td>\n",
       "      <td>0200806580</td>\n",
       "      <td>2020-02-20</td>\n",
       "      <td>2020.0</td>\n",
       "      <td>1.930493e+09</td>\n",
       "      <td>2020-02-12</td>\n",
       "      <td>2020-02-07</td>\n",
       "      <td>2020-02-12</td>\n",
       "      <td>2020-02-27</td>\n",
       "      <td>1</td>\n",
       "      <td>0</td>\n",
       "      <td>1.0</td>\n",
       "      <td>9318.24</td>\n",
       "      <td>2020-02-12</td>\n",
       "      <td>NAA8</td>\n",
       "      <td>1.930493e+09</td>\n",
       "      <td>0</td>\n",
       "      <td>-7 days</td>\n",
       "    </tr>\n",
       "    <tr>\n",
       "      <td>1</td>\n",
       "      <td>1</td>\n",
       "      <td>0200752302</td>\n",
       "      <td>2019-10-04</td>\n",
       "      <td>2019.0</td>\n",
       "      <td>1.929881e+09</td>\n",
       "      <td>2019-09-19</td>\n",
       "      <td>2019-09-17</td>\n",
       "      <td>2019-09-19</td>\n",
       "      <td>2019-10-04</td>\n",
       "      <td>1</td>\n",
       "      <td>0</td>\n",
       "      <td>1.0</td>\n",
       "      <td>20568.01</td>\n",
       "      <td>2019-09-19</td>\n",
       "      <td>NAA8</td>\n",
       "      <td>1.929881e+09</td>\n",
       "      <td>0</td>\n",
       "      <td>0 days</td>\n",
       "    </tr>\n",
       "    <tr>\n",
       "      <td>2</td>\n",
       "      <td>1</td>\n",
       "      <td>0200769623</td>\n",
       "      <td>2019-12-17</td>\n",
       "      <td>2019.0</td>\n",
       "      <td>1.930205e+09</td>\n",
       "      <td>2019-11-30</td>\n",
       "      <td>2019-11-30</td>\n",
       "      <td>2019-11-30</td>\n",
       "      <td>2019-12-15</td>\n",
       "      <td>1</td>\n",
       "      <td>0</td>\n",
       "      <td>1.0</td>\n",
       "      <td>1871.45</td>\n",
       "      <td>2019-11-30</td>\n",
       "      <td>NAH4</td>\n",
       "      <td>1.930205e+09</td>\n",
       "      <td>0</td>\n",
       "      <td>2 days</td>\n",
       "    </tr>\n",
       "    <tr>\n",
       "      <td>3</td>\n",
       "      <td>1</td>\n",
       "      <td>0200290370</td>\n",
       "      <td>2020-03-09</td>\n",
       "      <td>2020.0</td>\n",
       "      <td>1.930548e+09</td>\n",
       "      <td>2020-02-20</td>\n",
       "      <td>2020-02-19</td>\n",
       "      <td>2020-02-20</td>\n",
       "      <td>2020-03-06</td>\n",
       "      <td>1</td>\n",
       "      <td>0</td>\n",
       "      <td>1.0</td>\n",
       "      <td>3912.71</td>\n",
       "      <td>2020-02-20</td>\n",
       "      <td>NAA8</td>\n",
       "      <td>1.930548e+09</td>\n",
       "      <td>0</td>\n",
       "      <td>3 days</td>\n",
       "    </tr>\n",
       "    <tr>\n",
       "      <td>4</td>\n",
       "      <td>1</td>\n",
       "      <td>0200803720</td>\n",
       "      <td>2020-02-10</td>\n",
       "      <td>2020.0</td>\n",
       "      <td>1.930500e+09</td>\n",
       "      <td>2020-02-08</td>\n",
       "      <td>2020-02-08</td>\n",
       "      <td>2020-02-08</td>\n",
       "      <td>2020-02-08</td>\n",
       "      <td>1</td>\n",
       "      <td>0</td>\n",
       "      <td>1.0</td>\n",
       "      <td>19953.85</td>\n",
       "      <td>2020-02-01</td>\n",
       "      <td>NAM1</td>\n",
       "      <td>1.930500e+09</td>\n",
       "      <td>0</td>\n",
       "      <td>2 days</td>\n",
       "    </tr>\n",
       "  </tbody>\n",
       "</table>\n",
       "</div>"
      ],
      "text/plain": [
       "   business_code cust_number clear_date  buisness_year        doc_id  \\\n",
       "0              1  0200806580 2020-02-20         2020.0  1.930493e+09   \n",
       "1              1  0200752302 2019-10-04         2019.0  1.929881e+09   \n",
       "2              1  0200769623 2019-12-17         2019.0  1.930205e+09   \n",
       "3              1  0200290370 2020-03-09         2020.0  1.930548e+09   \n",
       "4              1  0200803720 2020-02-10         2020.0  1.930500e+09   \n",
       "\n",
       "  posting_date document_create_date document_create_date.1 due_in_date  \\\n",
       "0   2020-02-12           2020-02-07             2020-02-12  2020-02-27   \n",
       "1   2019-09-19           2019-09-17             2019-09-19  2019-10-04   \n",
       "2   2019-11-30           2019-11-30             2019-11-30  2019-12-15   \n",
       "3   2020-02-20           2020-02-19             2020-02-20  2020-03-06   \n",
       "4   2020-02-08           2020-02-08             2020-02-08  2020-02-08   \n",
       "\n",
       "   invoice_currency  document type  posting_id  total_open_amount  \\\n",
       "0                 1              0         1.0            9318.24   \n",
       "1                 1              0         1.0           20568.01   \n",
       "2                 1              0         1.0            1871.45   \n",
       "3                 1              0         1.0            3912.71   \n",
       "4                 1              0         1.0           19953.85   \n",
       "\n",
       "  baseline_create_date cust_payment_terms    invoice_id  isOpen  Target  \n",
       "0           2020-02-12               NAA8  1.930493e+09       0 -7 days  \n",
       "1           2019-09-19               NAA8  1.929881e+09       0  0 days  \n",
       "2           2019-11-30               NAH4  1.930205e+09       0  2 days  \n",
       "3           2020-02-20               NAA8  1.930548e+09       0  3 days  \n",
       "4           2020-02-01               NAM1  1.930500e+09       0  2 days  "
      ]
     },
     "execution_count": 29,
     "metadata": {},
     "output_type": "execute_result"
    }
   ],
   "source": [
    "df.head()"
   ]
  },
  {
   "cell_type": "code",
   "execution_count": 30,
   "metadata": {},
   "outputs": [],
   "source": [
    "def impute_cust_payment_terms(cols):\n",
    "    names = list()\n",
    "    for ii in df['cust_payment_terms'].unique():\n",
    "        names.append(ii)\n",
    "    for ii in range(0,75):\n",
    "        if cols == names[ii]:\n",
    "            return ii"
   ]
  },
  {
   "cell_type": "code",
   "execution_count": 31,
   "metadata": {},
   "outputs": [],
   "source": [
    "df['cust_payment_terms'] = df['cust_payment_terms'].apply(impute_cust_payment_terms)"
   ]
  },
  {
   "cell_type": "code",
   "execution_count": 32,
   "metadata": {},
   "outputs": [
    {
     "data": {
      "text/html": [
       "<div>\n",
       "<style scoped>\n",
       "    .dataframe tbody tr th:only-of-type {\n",
       "        vertical-align: middle;\n",
       "    }\n",
       "\n",
       "    .dataframe tbody tr th {\n",
       "        vertical-align: top;\n",
       "    }\n",
       "\n",
       "    .dataframe thead th {\n",
       "        text-align: right;\n",
       "    }\n",
       "</style>\n",
       "<table border=\"1\" class=\"dataframe\">\n",
       "  <thead>\n",
       "    <tr style=\"text-align: right;\">\n",
       "      <th></th>\n",
       "      <th>business_code</th>\n",
       "      <th>cust_number</th>\n",
       "      <th>clear_date</th>\n",
       "      <th>buisness_year</th>\n",
       "      <th>doc_id</th>\n",
       "      <th>posting_date</th>\n",
       "      <th>document_create_date</th>\n",
       "      <th>document_create_date.1</th>\n",
       "      <th>due_in_date</th>\n",
       "      <th>invoice_currency</th>\n",
       "      <th>document type</th>\n",
       "      <th>posting_id</th>\n",
       "      <th>total_open_amount</th>\n",
       "      <th>baseline_create_date</th>\n",
       "      <th>cust_payment_terms</th>\n",
       "      <th>invoice_id</th>\n",
       "      <th>isOpen</th>\n",
       "      <th>Target</th>\n",
       "    </tr>\n",
       "  </thead>\n",
       "  <tbody>\n",
       "    <tr>\n",
       "      <td>0</td>\n",
       "      <td>1</td>\n",
       "      <td>0200806580</td>\n",
       "      <td>2020-02-20</td>\n",
       "      <td>2020.0</td>\n",
       "      <td>1.930493e+09</td>\n",
       "      <td>2020-02-12</td>\n",
       "      <td>2020-02-07</td>\n",
       "      <td>2020-02-12</td>\n",
       "      <td>2020-02-27</td>\n",
       "      <td>1</td>\n",
       "      <td>0</td>\n",
       "      <td>1.0</td>\n",
       "      <td>9318.24</td>\n",
       "      <td>2020-02-12</td>\n",
       "      <td>0</td>\n",
       "      <td>1.930493e+09</td>\n",
       "      <td>0</td>\n",
       "      <td>-7 days</td>\n",
       "    </tr>\n",
       "    <tr>\n",
       "      <td>1</td>\n",
       "      <td>1</td>\n",
       "      <td>0200752302</td>\n",
       "      <td>2019-10-04</td>\n",
       "      <td>2019.0</td>\n",
       "      <td>1.929881e+09</td>\n",
       "      <td>2019-09-19</td>\n",
       "      <td>2019-09-17</td>\n",
       "      <td>2019-09-19</td>\n",
       "      <td>2019-10-04</td>\n",
       "      <td>1</td>\n",
       "      <td>0</td>\n",
       "      <td>1.0</td>\n",
       "      <td>20568.01</td>\n",
       "      <td>2019-09-19</td>\n",
       "      <td>0</td>\n",
       "      <td>1.929881e+09</td>\n",
       "      <td>0</td>\n",
       "      <td>0 days</td>\n",
       "    </tr>\n",
       "    <tr>\n",
       "      <td>2</td>\n",
       "      <td>1</td>\n",
       "      <td>0200769623</td>\n",
       "      <td>2019-12-17</td>\n",
       "      <td>2019.0</td>\n",
       "      <td>1.930205e+09</td>\n",
       "      <td>2019-11-30</td>\n",
       "      <td>2019-11-30</td>\n",
       "      <td>2019-11-30</td>\n",
       "      <td>2019-12-15</td>\n",
       "      <td>1</td>\n",
       "      <td>0</td>\n",
       "      <td>1.0</td>\n",
       "      <td>1871.45</td>\n",
       "      <td>2019-11-30</td>\n",
       "      <td>1</td>\n",
       "      <td>1.930205e+09</td>\n",
       "      <td>0</td>\n",
       "      <td>2 days</td>\n",
       "    </tr>\n",
       "    <tr>\n",
       "      <td>3</td>\n",
       "      <td>1</td>\n",
       "      <td>0200290370</td>\n",
       "      <td>2020-03-09</td>\n",
       "      <td>2020.0</td>\n",
       "      <td>1.930548e+09</td>\n",
       "      <td>2020-02-20</td>\n",
       "      <td>2020-02-19</td>\n",
       "      <td>2020-02-20</td>\n",
       "      <td>2020-03-06</td>\n",
       "      <td>1</td>\n",
       "      <td>0</td>\n",
       "      <td>1.0</td>\n",
       "      <td>3912.71</td>\n",
       "      <td>2020-02-20</td>\n",
       "      <td>0</td>\n",
       "      <td>1.930548e+09</td>\n",
       "      <td>0</td>\n",
       "      <td>3 days</td>\n",
       "    </tr>\n",
       "    <tr>\n",
       "      <td>4</td>\n",
       "      <td>1</td>\n",
       "      <td>0200803720</td>\n",
       "      <td>2020-02-10</td>\n",
       "      <td>2020.0</td>\n",
       "      <td>1.930500e+09</td>\n",
       "      <td>2020-02-08</td>\n",
       "      <td>2020-02-08</td>\n",
       "      <td>2020-02-08</td>\n",
       "      <td>2020-02-08</td>\n",
       "      <td>1</td>\n",
       "      <td>0</td>\n",
       "      <td>1.0</td>\n",
       "      <td>19953.85</td>\n",
       "      <td>2020-02-01</td>\n",
       "      <td>2</td>\n",
       "      <td>1.930500e+09</td>\n",
       "      <td>0</td>\n",
       "      <td>2 days</td>\n",
       "    </tr>\n",
       "  </tbody>\n",
       "</table>\n",
       "</div>"
      ],
      "text/plain": [
       "   business_code cust_number clear_date  buisness_year        doc_id  \\\n",
       "0              1  0200806580 2020-02-20         2020.0  1.930493e+09   \n",
       "1              1  0200752302 2019-10-04         2019.0  1.929881e+09   \n",
       "2              1  0200769623 2019-12-17         2019.0  1.930205e+09   \n",
       "3              1  0200290370 2020-03-09         2020.0  1.930548e+09   \n",
       "4              1  0200803720 2020-02-10         2020.0  1.930500e+09   \n",
       "\n",
       "  posting_date document_create_date document_create_date.1 due_in_date  \\\n",
       "0   2020-02-12           2020-02-07             2020-02-12  2020-02-27   \n",
       "1   2019-09-19           2019-09-17             2019-09-19  2019-10-04   \n",
       "2   2019-11-30           2019-11-30             2019-11-30  2019-12-15   \n",
       "3   2020-02-20           2020-02-19             2020-02-20  2020-03-06   \n",
       "4   2020-02-08           2020-02-08             2020-02-08  2020-02-08   \n",
       "\n",
       "   invoice_currency  document type  posting_id  total_open_amount  \\\n",
       "0                 1              0         1.0            9318.24   \n",
       "1                 1              0         1.0           20568.01   \n",
       "2                 1              0         1.0            1871.45   \n",
       "3                 1              0         1.0            3912.71   \n",
       "4                 1              0         1.0           19953.85   \n",
       "\n",
       "  baseline_create_date  cust_payment_terms    invoice_id  isOpen  Target  \n",
       "0           2020-02-12                   0  1.930493e+09       0 -7 days  \n",
       "1           2019-09-19                   0  1.929881e+09       0  0 days  \n",
       "2           2019-11-30                   1  1.930205e+09       0  2 days  \n",
       "3           2020-02-20                   0  1.930548e+09       0  3 days  \n",
       "4           2020-02-01                   2  1.930500e+09       0  2 days  "
      ]
     },
     "execution_count": 32,
     "metadata": {},
     "output_type": "execute_result"
    }
   ],
   "source": [
    "df.head()"
   ]
  },
  {
   "cell_type": "code",
   "execution_count": 33,
   "metadata": {
    "scrolled": false
   },
   "outputs": [
    {
     "data": {
      "text/plain": [
       "<matplotlib.axes._subplots.AxesSubplot at 0x2e294cb93c8>"
      ]
     },
     "execution_count": 33,
     "metadata": {},
     "output_type": "execute_result"
    },
    {
     "data": {
      "image/png": "[encoded data removed]",
      "text/plain": [
       "<Figure size 432x288 with 2 Axes>"
      ]
     },
     "metadata": {
      "needs_background": "light"
     },
     "output_type": "display_data"
    }
   ],
   "source": [
    "sns.heatmap(df.isnull(),cmap='viridis') "
   ]
  },
  {
   "cell_type": "code",
   "execution_count": 34,
   "metadata": {},
   "outputs": [],
   "source": [
    "#def impute_clear_date(cols):\n",
    " #   if True:\n",
    "  #      return df['clear_date'].mean()"
   ]
  },
  {
   "cell_type": "code",
   "execution_count": 35,
   "metadata": {},
   "outputs": [],
   "source": [
    "#df['clear_date'] = df['clear_date'].isnull().apply(impute_clear_date)"
   ]
  },
  {
   "cell_type": "code",
   "execution_count": 36,
   "metadata": {},
   "outputs": [],
   "source": [
    "#def impute_target(cols):\n",
    " #   if True:\n",
    "  #      return df['Target'].mean()"
   ]
  },
  {
   "cell_type": "code",
   "execution_count": 37,
   "metadata": {},
   "outputs": [],
   "source": [
    "#df['Target'] = df['Target'].isnull().apply(impute_target)"
   ]
  },
  {
   "cell_type": "code",
   "execution_count": 38,
   "metadata": {
    "scrolled": true
   },
   "outputs": [],
   "source": [
    "df.dropna(inplace=True)"
   ]
  },
  {
   "cell_type": "code",
   "execution_count": 39,
   "metadata": {
    "scrolled": false
   },
   "outputs": [
    {
     "data": {
      "text/plain": [
       "<matplotlib.axes._subplots.AxesSubplot at 0x2e294dc3d08>"
      ]
     },
     "execution_count": 39,
     "metadata": {},
     "output_type": "execute_result"
    },
    {
     "data": {
      "image/png": "[encoded data removed]",
      "text/plain": [
       "<Figure size 432x288 with 2 Axes>"
      ]
     },
     "metadata": {
      "needs_background": "light"
     },
     "output_type": "display_data"
    }
   ],
   "source": [
    "sns.heatmap(df.isnull(),cmap='viridis') "
   ]
  },
  {
   "cell_type": "code",
   "execution_count": 40,
   "metadata": {},
   "outputs": [
    {
     "data": {
      "text/html": [
       "<div>\n",
       "<style scoped>\n",
       "    .dataframe tbody tr th:only-of-type {\n",
       "        vertical-align: middle;\n",
       "    }\n",
       "\n",
       "    .dataframe tbody tr th {\n",
       "        vertical-align: top;\n",
       "    }\n",
       "\n",
       "    .dataframe thead th {\n",
       "        text-align: right;\n",
       "    }\n",
       "</style>\n",
       "<table border=\"1\" class=\"dataframe\">\n",
       "  <thead>\n",
       "    <tr style=\"text-align: right;\">\n",
       "      <th></th>\n",
       "      <th>business_code</th>\n",
       "      <th>cust_number</th>\n",
       "      <th>clear_date</th>\n",
       "      <th>buisness_year</th>\n",
       "      <th>doc_id</th>\n",
       "      <th>posting_date</th>\n",
       "      <th>document_create_date</th>\n",
       "      <th>document_create_date.1</th>\n",
       "      <th>due_in_date</th>\n",
       "      <th>invoice_currency</th>\n",
       "      <th>document type</th>\n",
       "      <th>posting_id</th>\n",
       "      <th>total_open_amount</th>\n",
       "      <th>baseline_create_date</th>\n",
       "      <th>cust_payment_terms</th>\n",
       "      <th>invoice_id</th>\n",
       "      <th>isOpen</th>\n",
       "      <th>Target</th>\n",
       "    </tr>\n",
       "  </thead>\n",
       "  <tbody>\n",
       "    <tr>\n",
       "      <td>46863</td>\n",
       "      <td>1</td>\n",
       "      <td>0200418007</td>\n",
       "      <td>2019-11-07</td>\n",
       "      <td>2019.0</td>\n",
       "      <td>1.930027e+09</td>\n",
       "      <td>2019-10-22</td>\n",
       "      <td>2019-10-17</td>\n",
       "      <td>2019-10-22</td>\n",
       "      <td>2019-11-06</td>\n",
       "      <td>1</td>\n",
       "      <td>0</td>\n",
       "      <td>1.0</td>\n",
       "      <td>2968.44</td>\n",
       "      <td>2019-10-22</td>\n",
       "      <td>0</td>\n",
       "      <td>1.930027e+09</td>\n",
       "      <td>0</td>\n",
       "      <td>1 days</td>\n",
       "    </tr>\n",
       "    <tr>\n",
       "      <td>46864</td>\n",
       "      <td>1</td>\n",
       "      <td>0200748108</td>\n",
       "      <td>2019-03-15</td>\n",
       "      <td>2019.0</td>\n",
       "      <td>1.928876e+09</td>\n",
       "      <td>2019-02-28</td>\n",
       "      <td>2019-02-28</td>\n",
       "      <td>2019-02-28</td>\n",
       "      <td>2019-03-15</td>\n",
       "      <td>1</td>\n",
       "      <td>0</td>\n",
       "      <td>1.0</td>\n",
       "      <td>14780.25</td>\n",
       "      <td>2019-02-28</td>\n",
       "      <td>0</td>\n",
       "      <td>1.928876e+09</td>\n",
       "      <td>0</td>\n",
       "      <td>0 days</td>\n",
       "    </tr>\n",
       "    <tr>\n",
       "      <td>46865</td>\n",
       "      <td>1</td>\n",
       "      <td>0200974851</td>\n",
       "      <td>2019-11-14</td>\n",
       "      <td>2019.0</td>\n",
       "      <td>1.930071e+09</td>\n",
       "      <td>2019-10-30</td>\n",
       "      <td>2019-10-29</td>\n",
       "      <td>2019-10-30</td>\n",
       "      <td>2019-11-14</td>\n",
       "      <td>1</td>\n",
       "      <td>0</td>\n",
       "      <td>1.0</td>\n",
       "      <td>5788.43</td>\n",
       "      <td>2019-10-30</td>\n",
       "      <td>0</td>\n",
       "      <td>1.930071e+09</td>\n",
       "      <td>0</td>\n",
       "      <td>0 days</td>\n",
       "    </tr>\n",
       "    <tr>\n",
       "      <td>46866</td>\n",
       "      <td>1</td>\n",
       "      <td>0200900909</td>\n",
       "      <td>2019-09-11</td>\n",
       "      <td>2019.0</td>\n",
       "      <td>1.929774e+09</td>\n",
       "      <td>2019-08-23</td>\n",
       "      <td>2019-08-22</td>\n",
       "      <td>2019-08-23</td>\n",
       "      <td>2019-09-24</td>\n",
       "      <td>1</td>\n",
       "      <td>0</td>\n",
       "      <td>1.0</td>\n",
       "      <td>19811.58</td>\n",
       "      <td>2019-08-23</td>\n",
       "      <td>14</td>\n",
       "      <td>1.929774e+09</td>\n",
       "      <td>0</td>\n",
       "      <td>-13 days</td>\n",
       "    </tr>\n",
       "    <tr>\n",
       "      <td>46867</td>\n",
       "      <td>3</td>\n",
       "      <td>0140103480</td>\n",
       "      <td>2019-08-26</td>\n",
       "      <td>2019.0</td>\n",
       "      <td>1.991825e+09</td>\n",
       "      <td>2019-08-12</td>\n",
       "      <td>2019-08-12</td>\n",
       "      <td>2019-08-12</td>\n",
       "      <td>2019-09-26</td>\n",
       "      <td>1</td>\n",
       "      <td>0</td>\n",
       "      <td>1.0</td>\n",
       "      <td>6195.00</td>\n",
       "      <td>2019-08-12</td>\n",
       "      <td>7</td>\n",
       "      <td>1.991825e+09</td>\n",
       "      <td>0</td>\n",
       "      <td>-31 days</td>\n",
       "    </tr>\n",
       "  </tbody>\n",
       "</table>\n",
       "</div>"
      ],
      "text/plain": [
       "       business_code cust_number clear_date  buisness_year        doc_id  \\\n",
       "46863              1  0200418007 2019-11-07         2019.0  1.930027e+09   \n",
       "46864              1  0200748108 2019-03-15         2019.0  1.928876e+09   \n",
       "46865              1  0200974851 2019-11-14         2019.0  1.930071e+09   \n",
       "46866              1  0200900909 2019-09-11         2019.0  1.929774e+09   \n",
       "46867              3  0140103480 2019-08-26         2019.0  1.991825e+09   \n",
       "\n",
       "      posting_date document_create_date document_create_date.1 due_in_date  \\\n",
       "46863   2019-10-22           2019-10-17             2019-10-22  2019-11-06   \n",
       "46864   2019-02-28           2019-02-28             2019-02-28  2019-03-15   \n",
       "46865   2019-10-30           2019-10-29             2019-10-30  2019-11-14   \n",
       "46866   2019-08-23           2019-08-22             2019-08-23  2019-09-24   \n",
       "46867   2019-08-12           2019-08-12             2019-08-12  2019-09-26   \n",
       "\n",
       "       invoice_currency  document type  posting_id  total_open_amount  \\\n",
       "46863                 1              0         1.0            2968.44   \n",
       "46864                 1              0         1.0           14780.25   \n",
       "46865                 1              0         1.0            5788.43   \n",
       "46866                 1              0         1.0           19811.58   \n",
       "46867                 1              0         1.0            6195.00   \n",
       "\n",
       "      baseline_create_date  cust_payment_terms    invoice_id  isOpen   Target  \n",
       "46863           2019-10-22                   0  1.930027e+09       0   1 days  \n",
       "46864           2019-02-28                   0  1.928876e+09       0   0 days  \n",
       "46865           2019-10-30                   0  1.930071e+09       0   0 days  \n",
       "46866           2019-08-23                  14  1.929774e+09       0 -13 days  \n",
       "46867           2019-08-12                   7  1.991825e+09       0 -31 days  "
      ]
     },
     "execution_count": 40,
     "metadata": {},
     "output_type": "execute_result"
    }
   ],
   "source": [
    "df.tail()"
   ]
  },
  {
   "cell_type": "code",
   "execution_count": 41,
   "metadata": {},
   "outputs": [
    {
     "data": {
      "text/html": [
       "<div>\n",
       "<style scoped>\n",
       "    .dataframe tbody tr th:only-of-type {\n",
       "        vertical-align: middle;\n",
       "    }\n",
       "\n",
       "    .dataframe tbody tr th {\n",
       "        vertical-align: top;\n",
       "    }\n",
       "\n",
       "    .dataframe thead th {\n",
       "        text-align: right;\n",
       "    }\n",
       "</style>\n",
       "<table border=\"1\" class=\"dataframe\">\n",
       "  <thead>\n",
       "    <tr style=\"text-align: right;\">\n",
       "      <th></th>\n",
       "      <th>business_code</th>\n",
       "      <th>cust_number</th>\n",
       "      <th>clear_date</th>\n",
       "      <th>buisness_year</th>\n",
       "      <th>doc_id</th>\n",
       "      <th>posting_date</th>\n",
       "      <th>document_create_date</th>\n",
       "      <th>document_create_date.1</th>\n",
       "      <th>due_in_date</th>\n",
       "      <th>invoice_currency</th>\n",
       "      <th>document type</th>\n",
       "      <th>posting_id</th>\n",
       "      <th>total_open_amount</th>\n",
       "      <th>baseline_create_date</th>\n",
       "      <th>cust_payment_terms</th>\n",
       "      <th>invoice_id</th>\n",
       "      <th>isOpen</th>\n",
       "      <th>Target</th>\n",
       "    </tr>\n",
       "  </thead>\n",
       "  <tbody>\n",
       "    <tr>\n",
       "      <td>0</td>\n",
       "      <td>1</td>\n",
       "      <td>0200806580</td>\n",
       "      <td>2020-02-20</td>\n",
       "      <td>2020.0</td>\n",
       "      <td>1.930493e+09</td>\n",
       "      <td>2020-02-12</td>\n",
       "      <td>2020-02-07</td>\n",
       "      <td>2020-02-12</td>\n",
       "      <td>2020-02-27</td>\n",
       "      <td>1</td>\n",
       "      <td>0</td>\n",
       "      <td>1.0</td>\n",
       "      <td>9318.24</td>\n",
       "      <td>2020-02-12</td>\n",
       "      <td>0</td>\n",
       "      <td>1.930493e+09</td>\n",
       "      <td>0</td>\n",
       "      <td>-7 days</td>\n",
       "    </tr>\n",
       "    <tr>\n",
       "      <td>1</td>\n",
       "      <td>1</td>\n",
       "      <td>0200752302</td>\n",
       "      <td>2019-10-04</td>\n",
       "      <td>2019.0</td>\n",
       "      <td>1.929881e+09</td>\n",
       "      <td>2019-09-19</td>\n",
       "      <td>2019-09-17</td>\n",
       "      <td>2019-09-19</td>\n",
       "      <td>2019-10-04</td>\n",
       "      <td>1</td>\n",
       "      <td>0</td>\n",
       "      <td>1.0</td>\n",
       "      <td>20568.01</td>\n",
       "      <td>2019-09-19</td>\n",
       "      <td>0</td>\n",
       "      <td>1.929881e+09</td>\n",
       "      <td>0</td>\n",
       "      <td>0 days</td>\n",
       "    </tr>\n",
       "    <tr>\n",
       "      <td>2</td>\n",
       "      <td>1</td>\n",
       "      <td>0200769623</td>\n",
       "      <td>2019-12-17</td>\n",
       "      <td>2019.0</td>\n",
       "      <td>1.930205e+09</td>\n",
       "      <td>2019-11-30</td>\n",
       "      <td>2019-11-30</td>\n",
       "      <td>2019-11-30</td>\n",
       "      <td>2019-12-15</td>\n",
       "      <td>1</td>\n",
       "      <td>0</td>\n",
       "      <td>1.0</td>\n",
       "      <td>1871.45</td>\n",
       "      <td>2019-11-30</td>\n",
       "      <td>1</td>\n",
       "      <td>1.930205e+09</td>\n",
       "      <td>0</td>\n",
       "      <td>2 days</td>\n",
       "    </tr>\n",
       "    <tr>\n",
       "      <td>3</td>\n",
       "      <td>1</td>\n",
       "      <td>0200290370</td>\n",
       "      <td>2020-03-09</td>\n",
       "      <td>2020.0</td>\n",
       "      <td>1.930548e+09</td>\n",
       "      <td>2020-02-20</td>\n",
       "      <td>2020-02-19</td>\n",
       "      <td>2020-02-20</td>\n",
       "      <td>2020-03-06</td>\n",
       "      <td>1</td>\n",
       "      <td>0</td>\n",
       "      <td>1.0</td>\n",
       "      <td>3912.71</td>\n",
       "      <td>2020-02-20</td>\n",
       "      <td>0</td>\n",
       "      <td>1.930548e+09</td>\n",
       "      <td>0</td>\n",
       "      <td>3 days</td>\n",
       "    </tr>\n",
       "    <tr>\n",
       "      <td>4</td>\n",
       "      <td>1</td>\n",
       "      <td>0200803720</td>\n",
       "      <td>2020-02-10</td>\n",
       "      <td>2020.0</td>\n",
       "      <td>1.930500e+09</td>\n",
       "      <td>2020-02-08</td>\n",
       "      <td>2020-02-08</td>\n",
       "      <td>2020-02-08</td>\n",
       "      <td>2020-02-08</td>\n",
       "      <td>1</td>\n",
       "      <td>0</td>\n",
       "      <td>1.0</td>\n",
       "      <td>19953.85</td>\n",
       "      <td>2020-02-01</td>\n",
       "      <td>2</td>\n",
       "      <td>1.930500e+09</td>\n",
       "      <td>0</td>\n",
       "      <td>2 days</td>\n",
       "    </tr>\n",
       "  </tbody>\n",
       "</table>\n",
       "</div>"
      ],
      "text/plain": [
       "   business_code cust_number clear_date  buisness_year        doc_id  \\\n",
       "0              1  0200806580 2020-02-20         2020.0  1.930493e+09   \n",
       "1              1  0200752302 2019-10-04         2019.0  1.929881e+09   \n",
       "2              1  0200769623 2019-12-17         2019.0  1.930205e+09   \n",
       "3              1  0200290370 2020-03-09         2020.0  1.930548e+09   \n",
       "4              1  0200803720 2020-02-10         2020.0  1.930500e+09   \n",
       "\n",
       "  posting_date document_create_date document_create_date.1 due_in_date  \\\n",
       "0   2020-02-12           2020-02-07             2020-02-12  2020-02-27   \n",
       "1   2019-09-19           2019-09-17             2019-09-19  2019-10-04   \n",
       "2   2019-11-30           2019-11-30             2019-11-30  2019-12-15   \n",
       "3   2020-02-20           2020-02-19             2020-02-20  2020-03-06   \n",
       "4   2020-02-08           2020-02-08             2020-02-08  2020-02-08   \n",
       "\n",
       "   invoice_currency  document type  posting_id  total_open_amount  \\\n",
       "0                 1              0         1.0            9318.24   \n",
       "1                 1              0         1.0           20568.01   \n",
       "2                 1              0         1.0            1871.45   \n",
       "3                 1              0         1.0            3912.71   \n",
       "4                 1              0         1.0           19953.85   \n",
       "\n",
       "  baseline_create_date  cust_payment_terms    invoice_id  isOpen  Target  \n",
       "0           2020-02-12                   0  1.930493e+09       0 -7 days  \n",
       "1           2019-09-19                   0  1.929881e+09       0  0 days  \n",
       "2           2019-11-30                   1  1.930205e+09       0  2 days  \n",
       "3           2020-02-20                   0  1.930548e+09       0  3 days  \n",
       "4           2020-02-01                   2  1.930500e+09       0  2 days  "
      ]
     },
     "execution_count": 41,
     "metadata": {},
     "output_type": "execute_result"
    }
   ],
   "source": [
    "df.head()"
   ]
  },
  {
   "cell_type": "code",
   "execution_count": 42,
   "metadata": {},
   "outputs": [],
   "source": [
    "def impute_cust_number(cols):\n",
    "    names = list()\n",
    "    for ii in df['cust_number'].unique():\n",
    "        names.append(ii)\n",
    "    for ii in range(0,1429):\n",
    "        if cols == names[ii]:\n",
    "            return ii"
   ]
  },
  {
   "cell_type": "code",
   "execution_count": 43,
   "metadata": {},
   "outputs": [],
   "source": [
    "df['cust_number'] = df['cust_number'].apply(impute_cust_number)"
   ]
  },
  {
   "cell_type": "code",
   "execution_count": 44,
   "metadata": {
    "scrolled": true
   },
   "outputs": [
    {
     "data": {
      "text/html": [
       "<div>\n",
       "<style scoped>\n",
       "    .dataframe tbody tr th:only-of-type {\n",
       "        vertical-align: middle;\n",
       "    }\n",
       "\n",
       "    .dataframe tbody tr th {\n",
       "        vertical-align: top;\n",
       "    }\n",
       "\n",
       "    .dataframe thead th {\n",
       "        text-align: right;\n",
       "    }\n",
       "</style>\n",
       "<table border=\"1\" class=\"dataframe\">\n",
       "  <thead>\n",
       "    <tr style=\"text-align: right;\">\n",
       "      <th></th>\n",
       "      <th>business_code</th>\n",
       "      <th>cust_number</th>\n",
       "      <th>clear_date</th>\n",
       "      <th>buisness_year</th>\n",
       "      <th>doc_id</th>\n",
       "      <th>posting_date</th>\n",
       "      <th>document_create_date</th>\n",
       "      <th>document_create_date.1</th>\n",
       "      <th>due_in_date</th>\n",
       "      <th>invoice_currency</th>\n",
       "      <th>document type</th>\n",
       "      <th>posting_id</th>\n",
       "      <th>total_open_amount</th>\n",
       "      <th>baseline_create_date</th>\n",
       "      <th>cust_payment_terms</th>\n",
       "      <th>invoice_id</th>\n",
       "      <th>isOpen</th>\n",
       "      <th>Target</th>\n",
       "    </tr>\n",
       "  </thead>\n",
       "  <tbody>\n",
       "    <tr>\n",
       "      <td>0</td>\n",
       "      <td>1</td>\n",
       "      <td>0</td>\n",
       "      <td>2020-02-20</td>\n",
       "      <td>2020.0</td>\n",
       "      <td>1.930493e+09</td>\n",
       "      <td>2020-02-12</td>\n",
       "      <td>2020-02-07</td>\n",
       "      <td>2020-02-12</td>\n",
       "      <td>2020-02-27</td>\n",
       "      <td>1</td>\n",
       "      <td>0</td>\n",
       "      <td>1.0</td>\n",
       "      <td>9318.24</td>\n",
       "      <td>2020-02-12</td>\n",
       "      <td>0</td>\n",
       "      <td>1.930493e+09</td>\n",
       "      <td>0</td>\n",
       "      <td>-7 days</td>\n",
       "    </tr>\n",
       "    <tr>\n",
       "      <td>1</td>\n",
       "      <td>1</td>\n",
       "      <td>1</td>\n",
       "      <td>2019-10-04</td>\n",
       "      <td>2019.0</td>\n",
       "      <td>1.929881e+09</td>\n",
       "      <td>2019-09-19</td>\n",
       "      <td>2019-09-17</td>\n",
       "      <td>2019-09-19</td>\n",
       "      <td>2019-10-04</td>\n",
       "      <td>1</td>\n",
       "      <td>0</td>\n",
       "      <td>1.0</td>\n",
       "      <td>20568.01</td>\n",
       "      <td>2019-09-19</td>\n",
       "      <td>0</td>\n",
       "      <td>1.929881e+09</td>\n",
       "      <td>0</td>\n",
       "      <td>0 days</td>\n",
       "    </tr>\n",
       "    <tr>\n",
       "      <td>2</td>\n",
       "      <td>1</td>\n",
       "      <td>2</td>\n",
       "      <td>2019-12-17</td>\n",
       "      <td>2019.0</td>\n",
       "      <td>1.930205e+09</td>\n",
       "      <td>2019-11-30</td>\n",
       "      <td>2019-11-30</td>\n",
       "      <td>2019-11-30</td>\n",
       "      <td>2019-12-15</td>\n",
       "      <td>1</td>\n",
       "      <td>0</td>\n",
       "      <td>1.0</td>\n",
       "      <td>1871.45</td>\n",
       "      <td>2019-11-30</td>\n",
       "      <td>1</td>\n",
       "      <td>1.930205e+09</td>\n",
       "      <td>0</td>\n",
       "      <td>2 days</td>\n",
       "    </tr>\n",
       "    <tr>\n",
       "      <td>3</td>\n",
       "      <td>1</td>\n",
       "      <td>3</td>\n",
       "      <td>2020-03-09</td>\n",
       "      <td>2020.0</td>\n",
       "      <td>1.930548e+09</td>\n",
       "      <td>2020-02-20</td>\n",
       "      <td>2020-02-19</td>\n",
       "      <td>2020-02-20</td>\n",
       "      <td>2020-03-06</td>\n",
       "      <td>1</td>\n",
       "      <td>0</td>\n",
       "      <td>1.0</td>\n",
       "      <td>3912.71</td>\n",
       "      <td>2020-02-20</td>\n",
       "      <td>0</td>\n",
       "      <td>1.930548e+09</td>\n",
       "      <td>0</td>\n",
       "      <td>3 days</td>\n",
       "    </tr>\n",
       "    <tr>\n",
       "      <td>4</td>\n",
       "      <td>1</td>\n",
       "      <td>4</td>\n",
       "      <td>2020-02-10</td>\n",
       "      <td>2020.0</td>\n",
       "      <td>1.930500e+09</td>\n",
       "      <td>2020-02-08</td>\n",
       "      <td>2020-02-08</td>\n",
       "      <td>2020-02-08</td>\n",
       "      <td>2020-02-08</td>\n",
       "      <td>1</td>\n",
       "      <td>0</td>\n",
       "      <td>1.0</td>\n",
       "      <td>19953.85</td>\n",
       "      <td>2020-02-01</td>\n",
       "      <td>2</td>\n",
       "      <td>1.930500e+09</td>\n",
       "      <td>0</td>\n",
       "      <td>2 days</td>\n",
       "    </tr>\n",
       "  </tbody>\n",
       "</table>\n",
       "</div>"
      ],
      "text/plain": [
       "   business_code  cust_number clear_date  buisness_year        doc_id  \\\n",
       "0              1            0 2020-02-20         2020.0  1.930493e+09   \n",
       "1              1            1 2019-10-04         2019.0  1.929881e+09   \n",
       "2              1            2 2019-12-17         2019.0  1.930205e+09   \n",
       "3              1            3 2020-03-09         2020.0  1.930548e+09   \n",
       "4              1            4 2020-02-10         2020.0  1.930500e+09   \n",
       "\n",
       "  posting_date document_create_date document_create_date.1 due_in_date  \\\n",
       "0   2020-02-12           2020-02-07             2020-02-12  2020-02-27   \n",
       "1   2019-09-19           2019-09-17             2019-09-19  2019-10-04   \n",
       "2   2019-11-30           2019-11-30             2019-11-30  2019-12-15   \n",
       "3   2020-02-20           2020-02-19             2020-02-20  2020-03-06   \n",
       "4   2020-02-08           2020-02-08             2020-02-08  2020-02-08   \n",
       "\n",
       "   invoice_currency  document type  posting_id  total_open_amount  \\\n",
       "0                 1              0         1.0            9318.24   \n",
       "1                 1              0         1.0           20568.01   \n",
       "2                 1              0         1.0            1871.45   \n",
       "3                 1              0         1.0            3912.71   \n",
       "4                 1              0         1.0           19953.85   \n",
       "\n",
       "  baseline_create_date  cust_payment_terms    invoice_id  isOpen  Target  \n",
       "0           2020-02-12                   0  1.930493e+09       0 -7 days  \n",
       "1           2019-09-19                   0  1.929881e+09       0  0 days  \n",
       "2           2019-11-30                   1  1.930205e+09       0  2 days  \n",
       "3           2020-02-20                   0  1.930548e+09       0  3 days  \n",
       "4           2020-02-01                   2  1.930500e+09       0  2 days  "
      ]
     },
     "execution_count": 44,
     "metadata": {},
     "output_type": "execute_result"
    }
   ],
   "source": [
    "df.head()"
   ]
  },
  {
   "cell_type": "code",
   "execution_count": 45,
   "metadata": {},
   "outputs": [
    {
     "name": "stdout",
     "output_type": "stream",
     "text": [
      "0    46862\n",
      "Name: isOpen, dtype: int64\n",
      "\n",
      "0    46862\n",
      "Name: document type, dtype: int64\n",
      "\n",
      "1.0    46862\n",
      "Name: posting_id, dtype: int64\n"
     ]
    }
   ],
   "source": [
    "# No Use\n",
    "\n",
    "print(df['isOpen'].value_counts())\n",
    "print()\n",
    "print(df['document type'].value_counts())\n",
    "print()\n",
    "print(df['posting_id'].value_counts())"
   ]
  },
  {
   "cell_type": "code",
   "execution_count": 46,
   "metadata": {},
   "outputs": [],
   "source": [
    "df.drop(['isOpen'],inplace=True,axis=1)\n",
    "df.drop(['document type'],inplace=True,axis=1)\n",
    "df.drop(['posting_id'],inplace=True,axis=1)"
   ]
  },
  {
   "cell_type": "code",
   "execution_count": 47,
   "metadata": {},
   "outputs": [
    {
     "data": {
      "text/html": [
       "<div>\n",
       "<style scoped>\n",
       "    .dataframe tbody tr th:only-of-type {\n",
       "        vertical-align: middle;\n",
       "    }\n",
       "\n",
       "    .dataframe tbody tr th {\n",
       "        vertical-align: top;\n",
       "    }\n",
       "\n",
       "    .dataframe thead th {\n",
       "        text-align: right;\n",
       "    }\n",
       "</style>\n",
       "<table border=\"1\" class=\"dataframe\">\n",
       "  <thead>\n",
       "    <tr style=\"text-align: right;\">\n",
       "      <th></th>\n",
       "      <th>business_code</th>\n",
       "      <th>cust_number</th>\n",
       "      <th>clear_date</th>\n",
       "      <th>buisness_year</th>\n",
       "      <th>doc_id</th>\n",
       "      <th>posting_date</th>\n",
       "      <th>document_create_date</th>\n",
       "      <th>document_create_date.1</th>\n",
       "      <th>due_in_date</th>\n",
       "      <th>invoice_currency</th>\n",
       "      <th>total_open_amount</th>\n",
       "      <th>baseline_create_date</th>\n",
       "      <th>cust_payment_terms</th>\n",
       "      <th>invoice_id</th>\n",
       "      <th>Target</th>\n",
       "    </tr>\n",
       "  </thead>\n",
       "  <tbody>\n",
       "    <tr>\n",
       "      <td>0</td>\n",
       "      <td>1</td>\n",
       "      <td>0</td>\n",
       "      <td>2020-02-20</td>\n",
       "      <td>2020.0</td>\n",
       "      <td>1.930493e+09</td>\n",
       "      <td>2020-02-12</td>\n",
       "      <td>2020-02-07</td>\n",
       "      <td>2020-02-12</td>\n",
       "      <td>2020-02-27</td>\n",
       "      <td>1</td>\n",
       "      <td>9318.24</td>\n",
       "      <td>2020-02-12</td>\n",
       "      <td>0</td>\n",
       "      <td>1.930493e+09</td>\n",
       "      <td>-7 days</td>\n",
       "    </tr>\n",
       "    <tr>\n",
       "      <td>1</td>\n",
       "      <td>1</td>\n",
       "      <td>1</td>\n",
       "      <td>2019-10-04</td>\n",
       "      <td>2019.0</td>\n",
       "      <td>1.929881e+09</td>\n",
       "      <td>2019-09-19</td>\n",
       "      <td>2019-09-17</td>\n",
       "      <td>2019-09-19</td>\n",
       "      <td>2019-10-04</td>\n",
       "      <td>1</td>\n",
       "      <td>20568.01</td>\n",
       "      <td>2019-09-19</td>\n",
       "      <td>0</td>\n",
       "      <td>1.929881e+09</td>\n",
       "      <td>0 days</td>\n",
       "    </tr>\n",
       "    <tr>\n",
       "      <td>2</td>\n",
       "      <td>1</td>\n",
       "      <td>2</td>\n",
       "      <td>2019-12-17</td>\n",
       "      <td>2019.0</td>\n",
       "      <td>1.930205e+09</td>\n",
       "      <td>2019-11-30</td>\n",
       "      <td>2019-11-30</td>\n",
       "      <td>2019-11-30</td>\n",
       "      <td>2019-12-15</td>\n",
       "      <td>1</td>\n",
       "      <td>1871.45</td>\n",
       "      <td>2019-11-30</td>\n",
       "      <td>1</td>\n",
       "      <td>1.930205e+09</td>\n",
       "      <td>2 days</td>\n",
       "    </tr>\n",
       "    <tr>\n",
       "      <td>3</td>\n",
       "      <td>1</td>\n",
       "      <td>3</td>\n",
       "      <td>2020-03-09</td>\n",
       "      <td>2020.0</td>\n",
       "      <td>1.930548e+09</td>\n",
       "      <td>2020-02-20</td>\n",
       "      <td>2020-02-19</td>\n",
       "      <td>2020-02-20</td>\n",
       "      <td>2020-03-06</td>\n",
       "      <td>1</td>\n",
       "      <td>3912.71</td>\n",
       "      <td>2020-02-20</td>\n",
       "      <td>0</td>\n",
       "      <td>1.930548e+09</td>\n",
       "      <td>3 days</td>\n",
       "    </tr>\n",
       "    <tr>\n",
       "      <td>4</td>\n",
       "      <td>1</td>\n",
       "      <td>4</td>\n",
       "      <td>2020-02-10</td>\n",
       "      <td>2020.0</td>\n",
       "      <td>1.930500e+09</td>\n",
       "      <td>2020-02-08</td>\n",
       "      <td>2020-02-08</td>\n",
       "      <td>2020-02-08</td>\n",
       "      <td>2020-02-08</td>\n",
       "      <td>1</td>\n",
       "      <td>19953.85</td>\n",
       "      <td>2020-02-01</td>\n",
       "      <td>2</td>\n",
       "      <td>1.930500e+09</td>\n",
       "      <td>2 days</td>\n",
       "    </tr>\n",
       "  </tbody>\n",
       "</table>\n",
       "</div>"
      ],
      "text/plain": [
       "   business_code  cust_number clear_date  buisness_year        doc_id  \\\n",
       "0              1            0 2020-02-20         2020.0  1.930493e+09   \n",
       "1              1            1 2019-10-04         2019.0  1.929881e+09   \n",
       "2              1            2 2019-12-17         2019.0  1.930205e+09   \n",
       "3              1            3 2020-03-09         2020.0  1.930548e+09   \n",
       "4              1            4 2020-02-10         2020.0  1.930500e+09   \n",
       "\n",
       "  posting_date document_create_date document_create_date.1 due_in_date  \\\n",
       "0   2020-02-12           2020-02-07             2020-02-12  2020-02-27   \n",
       "1   2019-09-19           2019-09-17             2019-09-19  2019-10-04   \n",
       "2   2019-11-30           2019-11-30             2019-11-30  2019-12-15   \n",
       "3   2020-02-20           2020-02-19             2020-02-20  2020-03-06   \n",
       "4   2020-02-08           2020-02-08             2020-02-08  2020-02-08   \n",
       "\n",
       "   invoice_currency  total_open_amount baseline_create_date  \\\n",
       "0                 1            9318.24           2020-02-12   \n",
       "1                 1           20568.01           2019-09-19   \n",
       "2                 1            1871.45           2019-11-30   \n",
       "3                 1            3912.71           2020-02-20   \n",
       "4                 1           19953.85           2020-02-01   \n",
       "\n",
       "   cust_payment_terms    invoice_id  Target  \n",
       "0                   0  1.930493e+09 -7 days  \n",
       "1                   0  1.929881e+09  0 days  \n",
       "2                   1  1.930205e+09  2 days  \n",
       "3                   0  1.930548e+09  3 days  \n",
       "4                   2  1.930500e+09  2 days  "
      ]
     },
     "execution_count": 47,
     "metadata": {},
     "output_type": "execute_result"
    }
   ],
   "source": [
    "df.head()"
   ]
  },
  {
   "cell_type": "code",
   "execution_count": 48,
   "metadata": {},
   "outputs": [],
   "source": [
    "# posting_date converted\n",
    "\n",
    "df['posting_date_year'] = df['posting_date'].dt.year\n",
    "df['posting_date_month'] = df['posting_date'].dt.month\n",
    "df['posting_date_day'] = df['posting_date'].dt.day"
   ]
  },
  {
   "cell_type": "code",
   "execution_count": 49,
   "metadata": {},
   "outputs": [],
   "source": [
    "# Clear date converted\n",
    "\n",
    "df['clear_date_year'] = df['clear_date'].dt.year\n",
    "df['clear_date_month'] = df['clear_date'].dt.month\n",
    "df['clear_date_day'] = df['clear_date'].dt.day"
   ]
  },
  {
   "cell_type": "code",
   "execution_count": 50,
   "metadata": {},
   "outputs": [],
   "source": [
    "# document_create_date converted\n",
    "\n",
    "df['document_create_date_year'] = df['document_create_date'].dt.year\n",
    "df['document_create_date_month'] = df['document_create_date'].dt.month\n",
    "df['document_create_date_day'] = df['document_create_date'].dt.day"
   ]
  },
  {
   "cell_type": "code",
   "execution_count": 51,
   "metadata": {},
   "outputs": [],
   "source": [
    "# document_create_date.1\n",
    "\n",
    "df['document_create_date.1_year'] = df['document_create_date.1'].dt.year\n",
    "df['document_create_date.1_month'] = df['document_create_date.1'].dt.month\n",
    "df['document_create_date.1_day'] = df['document_create_date.1'].dt.day"
   ]
  },
  {
   "cell_type": "code",
   "execution_count": 52,
   "metadata": {},
   "outputs": [],
   "source": [
    "# due_in_date converted\n",
    "\n",
    "df['due_in_date_year'] = df['due_in_date'].dt.year\n",
    "df['due_in_date_month'] = df['due_in_date'].dt.month\n",
    "df['due_in_date_day'] = df['due_in_date'].dt.day"
   ]
  },
  {
   "cell_type": "code",
   "execution_count": 53,
   "metadata": {},
   "outputs": [],
   "source": [
    "# baseline_create_date converted\n",
    "\n",
    "df['baseline_create_date_year'] = df['baseline_create_date'].dt.year\n",
    "df['baseline_create_date_month'] = df['baseline_create_date'].dt.month\n",
    "df['baseline_create_date_day'] = df['baseline_create_date'].dt.day"
   ]
  },
  {
   "cell_type": "code",
   "execution_count": 54,
   "metadata": {
    "scrolled": true
   },
   "outputs": [
    {
     "data": {
      "text/html": [
       "<div>\n",
       "<style scoped>\n",
       "    .dataframe tbody tr th:only-of-type {\n",
       "        vertical-align: middle;\n",
       "    }\n",
       "\n",
       "    .dataframe tbody tr th {\n",
       "        vertical-align: top;\n",
       "    }\n",
       "\n",
       "    .dataframe thead th {\n",
       "        text-align: right;\n",
       "    }\n",
       "</style>\n",
       "<table border=\"1\" class=\"dataframe\">\n",
       "  <thead>\n",
       "    <tr style=\"text-align: right;\">\n",
       "      <th></th>\n",
       "      <th>business_code</th>\n",
       "      <th>cust_number</th>\n",
       "      <th>buisness_year</th>\n",
       "      <th>doc_id</th>\n",
       "      <th>invoice_currency</th>\n",
       "      <th>total_open_amount</th>\n",
       "      <th>cust_payment_terms</th>\n",
       "      <th>invoice_id</th>\n",
       "      <th>Target</th>\n",
       "      <th>posting_date_year</th>\n",
       "      <th>...</th>\n",
       "      <th>document_create_date_day</th>\n",
       "      <th>document_create_date.1_year</th>\n",
       "      <th>document_create_date.1_month</th>\n",
       "      <th>document_create_date.1_day</th>\n",
       "      <th>due_in_date_year</th>\n",
       "      <th>due_in_date_month</th>\n",
       "      <th>due_in_date_day</th>\n",
       "      <th>baseline_create_date_year</th>\n",
       "      <th>baseline_create_date_month</th>\n",
       "      <th>baseline_create_date_day</th>\n",
       "    </tr>\n",
       "  </thead>\n",
       "  <tbody>\n",
       "    <tr>\n",
       "      <td>0</td>\n",
       "      <td>1</td>\n",
       "      <td>0</td>\n",
       "      <td>2020.0</td>\n",
       "      <td>1.930493e+09</td>\n",
       "      <td>1</td>\n",
       "      <td>9318.24</td>\n",
       "      <td>0</td>\n",
       "      <td>1.930493e+09</td>\n",
       "      <td>-7 days</td>\n",
       "      <td>2020</td>\n",
       "      <td>...</td>\n",
       "      <td>7</td>\n",
       "      <td>2020</td>\n",
       "      <td>2</td>\n",
       "      <td>12</td>\n",
       "      <td>2020</td>\n",
       "      <td>2</td>\n",
       "      <td>27</td>\n",
       "      <td>2020</td>\n",
       "      <td>2</td>\n",
       "      <td>12</td>\n",
       "    </tr>\n",
       "    <tr>\n",
       "      <td>1</td>\n",
       "      <td>1</td>\n",
       "      <td>1</td>\n",
       "      <td>2019.0</td>\n",
       "      <td>1.929881e+09</td>\n",
       "      <td>1</td>\n",
       "      <td>20568.01</td>\n",
       "      <td>0</td>\n",
       "      <td>1.929881e+09</td>\n",
       "      <td>0 days</td>\n",
       "      <td>2019</td>\n",
       "      <td>...</td>\n",
       "      <td>17</td>\n",
       "      <td>2019</td>\n",
       "      <td>9</td>\n",
       "      <td>19</td>\n",
       "      <td>2019</td>\n",
       "      <td>10</td>\n",
       "      <td>4</td>\n",
       "      <td>2019</td>\n",
       "      <td>9</td>\n",
       "      <td>19</td>\n",
       "    </tr>\n",
       "    <tr>\n",
       "      <td>2</td>\n",
       "      <td>1</td>\n",
       "      <td>2</td>\n",
       "      <td>2019.0</td>\n",
       "      <td>1.930205e+09</td>\n",
       "      <td>1</td>\n",
       "      <td>1871.45</td>\n",
       "      <td>1</td>\n",
       "      <td>1.930205e+09</td>\n",
       "      <td>2 days</td>\n",
       "      <td>2019</td>\n",
       "      <td>...</td>\n",
       "      <td>30</td>\n",
       "      <td>2019</td>\n",
       "      <td>11</td>\n",
       "      <td>30</td>\n",
       "      <td>2019</td>\n",
       "      <td>12</td>\n",
       "      <td>15</td>\n",
       "      <td>2019</td>\n",
       "      <td>11</td>\n",
       "      <td>30</td>\n",
       "    </tr>\n",
       "    <tr>\n",
       "      <td>3</td>\n",
       "      <td>1</td>\n",
       "      <td>3</td>\n",
       "      <td>2020.0</td>\n",
       "      <td>1.930548e+09</td>\n",
       "      <td>1</td>\n",
       "      <td>3912.71</td>\n",
       "      <td>0</td>\n",
       "      <td>1.930548e+09</td>\n",
       "      <td>3 days</td>\n",
       "      <td>2020</td>\n",
       "      <td>...</td>\n",
       "      <td>19</td>\n",
       "      <td>2020</td>\n",
       "      <td>2</td>\n",
       "      <td>20</td>\n",
       "      <td>2020</td>\n",
       "      <td>3</td>\n",
       "      <td>6</td>\n",
       "      <td>2020</td>\n",
       "      <td>2</td>\n",
       "      <td>20</td>\n",
       "    </tr>\n",
       "    <tr>\n",
       "      <td>4</td>\n",
       "      <td>1</td>\n",
       "      <td>4</td>\n",
       "      <td>2020.0</td>\n",
       "      <td>1.930500e+09</td>\n",
       "      <td>1</td>\n",
       "      <td>19953.85</td>\n",
       "      <td>2</td>\n",
       "      <td>1.930500e+09</td>\n",
       "      <td>2 days</td>\n",
       "      <td>2020</td>\n",
       "      <td>...</td>\n",
       "      <td>8</td>\n",
       "      <td>2020</td>\n",
       "      <td>2</td>\n",
       "      <td>8</td>\n",
       "      <td>2020</td>\n",
       "      <td>2</td>\n",
       "      <td>8</td>\n",
       "      <td>2020</td>\n",
       "      <td>2</td>\n",
       "      <td>1</td>\n",
       "    </tr>\n",
       "  </tbody>\n",
       "</table>\n",
       "<p>5 rows × 27 columns</p>\n",
       "</div>"
      ],
      "text/plain": [
       "   business_code  cust_number  buisness_year        doc_id  invoice_currency  \\\n",
       "0              1            0         2020.0  1.930493e+09                 1   \n",
       "1              1            1         2019.0  1.929881e+09                 1   \n",
       "2              1            2         2019.0  1.930205e+09                 1   \n",
       "3              1            3         2020.0  1.930548e+09                 1   \n",
       "4              1            4         2020.0  1.930500e+09                 1   \n",
       "\n",
       "   total_open_amount  cust_payment_terms    invoice_id  Target  \\\n",
       "0            9318.24                   0  1.930493e+09 -7 days   \n",
       "1           20568.01                   0  1.929881e+09  0 days   \n",
       "2            1871.45                   1  1.930205e+09  2 days   \n",
       "3            3912.71                   0  1.930548e+09  3 days   \n",
       "4           19953.85                   2  1.930500e+09  2 days   \n",
       "\n",
       "   posting_date_year  ...  document_create_date_day  \\\n",
       "0               2020  ...                         7   \n",
       "1               2019  ...                        17   \n",
       "2               2019  ...                        30   \n",
       "3               2020  ...                        19   \n",
       "4               2020  ...                         8   \n",
       "\n",
       "   document_create_date.1_year  document_create_date.1_month  \\\n",
       "0                         2020                             2   \n",
       "1                         2019                             9   \n",
       "2                         2019                            11   \n",
       "3                         2020                             2   \n",
       "4                         2020                             2   \n",
       "\n",
       "   document_create_date.1_day  due_in_date_year  due_in_date_month  \\\n",
       "0                          12              2020                  2   \n",
       "1                          19              2019                 10   \n",
       "2                          30              2019                 12   \n",
       "3                          20              2020                  3   \n",
       "4                           8              2020                  2   \n",
       "\n",
       "   due_in_date_day  baseline_create_date_year  baseline_create_date_month  \\\n",
       "0               27                       2020                           2   \n",
       "1                4                       2019                           9   \n",
       "2               15                       2019                          11   \n",
       "3                6                       2020                           2   \n",
       "4                8                       2020                           2   \n",
       "\n",
       "   baseline_create_date_day  \n",
       "0                        12  \n",
       "1                        19  \n",
       "2                        30  \n",
       "3                        20  \n",
       "4                         1  \n",
       "\n",
       "[5 rows x 27 columns]"
      ]
     },
     "execution_count": 54,
     "metadata": {},
     "output_type": "execute_result"
    }
   ],
   "source": [
    "df.drop(['clear_date'],axis=1,inplace=True)\n",
    "df.drop(['posting_date'],axis=1,inplace=True)\n",
    "df.drop(['document_create_date'],axis=1,inplace=True)\n",
    "df.drop(['document_create_date.1'],axis=1,inplace=True)\n",
    "df.drop(['due_in_date'],axis=1,inplace=True)\n",
    "df.drop(['baseline_create_date'],axis=1,inplace=True)\n",
    "df.head()"
   ]
  },
  {
   "cell_type": "code",
   "execution_count": 55,
   "metadata": {},
   "outputs": [],
   "source": [
    "def impute_Target(cols):\n",
    "    if type(cols) == pd._libs.tslibs.timedeltas.Timedelta:\n",
    "        return cols.days"
   ]
  },
  {
   "cell_type": "code",
   "execution_count": 56,
   "metadata": {},
   "outputs": [],
   "source": [
    "df['Target'] = df['Target'].apply(impute_Target)"
   ]
  },
  {
   "cell_type": "code",
   "execution_count": 57,
   "metadata": {
    "scrolled": false
   },
   "outputs": [
    {
     "data": {
      "text/plain": [
       "0        -7\n",
       "1         0\n",
       "2         2\n",
       "3         3\n",
       "4         2\n",
       "         ..\n",
       "46863     1\n",
       "46864     0\n",
       "46865     0\n",
       "46866   -13\n",
       "46867   -31\n",
       "Name: Target, Length: 46862, dtype: int64"
      ]
     },
     "execution_count": 57,
     "metadata": {},
     "output_type": "execute_result"
    }
   ],
   "source": [
    "df['Target']"
   ]
  },
  {
   "cell_type": "code",
   "execution_count": 58,
   "metadata": {},
   "outputs": [
    {
     "data": {
      "text/html": [
       "<div>\n",
       "<style scoped>\n",
       "    .dataframe tbody tr th:only-of-type {\n",
       "        vertical-align: middle;\n",
       "    }\n",
       "\n",
       "    .dataframe tbody tr th {\n",
       "        vertical-align: top;\n",
       "    }\n",
       "\n",
       "    .dataframe thead th {\n",
       "        text-align: right;\n",
       "    }\n",
       "</style>\n",
       "<table border=\"1\" class=\"dataframe\">\n",
       "  <thead>\n",
       "    <tr style=\"text-align: right;\">\n",
       "      <th></th>\n",
       "      <th>business_code</th>\n",
       "      <th>cust_number</th>\n",
       "      <th>buisness_year</th>\n",
       "      <th>doc_id</th>\n",
       "      <th>invoice_currency</th>\n",
       "      <th>total_open_amount</th>\n",
       "      <th>cust_payment_terms</th>\n",
       "      <th>invoice_id</th>\n",
       "      <th>Target</th>\n",
       "      <th>posting_date_year</th>\n",
       "      <th>...</th>\n",
       "      <th>document_create_date_day</th>\n",
       "      <th>document_create_date.1_year</th>\n",
       "      <th>document_create_date.1_month</th>\n",
       "      <th>document_create_date.1_day</th>\n",
       "      <th>due_in_date_year</th>\n",
       "      <th>due_in_date_month</th>\n",
       "      <th>due_in_date_day</th>\n",
       "      <th>baseline_create_date_year</th>\n",
       "      <th>baseline_create_date_month</th>\n",
       "      <th>baseline_create_date_day</th>\n",
       "    </tr>\n",
       "  </thead>\n",
       "  <tbody>\n",
       "    <tr>\n",
       "      <td>0</td>\n",
       "      <td>1</td>\n",
       "      <td>0</td>\n",
       "      <td>2020.0</td>\n",
       "      <td>1.930493e+09</td>\n",
       "      <td>1</td>\n",
       "      <td>9318.24</td>\n",
       "      <td>0</td>\n",
       "      <td>1.930493e+09</td>\n",
       "      <td>-7</td>\n",
       "      <td>2020</td>\n",
       "      <td>...</td>\n",
       "      <td>7</td>\n",
       "      <td>2020</td>\n",
       "      <td>2</td>\n",
       "      <td>12</td>\n",
       "      <td>2020</td>\n",
       "      <td>2</td>\n",
       "      <td>27</td>\n",
       "      <td>2020</td>\n",
       "      <td>2</td>\n",
       "      <td>12</td>\n",
       "    </tr>\n",
       "    <tr>\n",
       "      <td>1</td>\n",
       "      <td>1</td>\n",
       "      <td>1</td>\n",
       "      <td>2019.0</td>\n",
       "      <td>1.929881e+09</td>\n",
       "      <td>1</td>\n",
       "      <td>20568.01</td>\n",
       "      <td>0</td>\n",
       "      <td>1.929881e+09</td>\n",
       "      <td>0</td>\n",
       "      <td>2019</td>\n",
       "      <td>...</td>\n",
       "      <td>17</td>\n",
       "      <td>2019</td>\n",
       "      <td>9</td>\n",
       "      <td>19</td>\n",
       "      <td>2019</td>\n",
       "      <td>10</td>\n",
       "      <td>4</td>\n",
       "      <td>2019</td>\n",
       "      <td>9</td>\n",
       "      <td>19</td>\n",
       "    </tr>\n",
       "    <tr>\n",
       "      <td>2</td>\n",
       "      <td>1</td>\n",
       "      <td>2</td>\n",
       "      <td>2019.0</td>\n",
       "      <td>1.930205e+09</td>\n",
       "      <td>1</td>\n",
       "      <td>1871.45</td>\n",
       "      <td>1</td>\n",
       "      <td>1.930205e+09</td>\n",
       "      <td>2</td>\n",
       "      <td>2019</td>\n",
       "      <td>...</td>\n",
       "      <td>30</td>\n",
       "      <td>2019</td>\n",
       "      <td>11</td>\n",
       "      <td>30</td>\n",
       "      <td>2019</td>\n",
       "      <td>12</td>\n",
       "      <td>15</td>\n",
       "      <td>2019</td>\n",
       "      <td>11</td>\n",
       "      <td>30</td>\n",
       "    </tr>\n",
       "    <tr>\n",
       "      <td>3</td>\n",
       "      <td>1</td>\n",
       "      <td>3</td>\n",
       "      <td>2020.0</td>\n",
       "      <td>1.930548e+09</td>\n",
       "      <td>1</td>\n",
       "      <td>3912.71</td>\n",
       "      <td>0</td>\n",
       "      <td>1.930548e+09</td>\n",
       "      <td>3</td>\n",
       "      <td>2020</td>\n",
       "      <td>...</td>\n",
       "      <td>19</td>\n",
       "      <td>2020</td>\n",
       "      <td>2</td>\n",
       "      <td>20</td>\n",
       "      <td>2020</td>\n",
       "      <td>3</td>\n",
       "      <td>6</td>\n",
       "      <td>2020</td>\n",
       "      <td>2</td>\n",
       "      <td>20</td>\n",
       "    </tr>\n",
       "    <tr>\n",
       "      <td>4</td>\n",
       "      <td>1</td>\n",
       "      <td>4</td>\n",
       "      <td>2020.0</td>\n",
       "      <td>1.930500e+09</td>\n",
       "      <td>1</td>\n",
       "      <td>19953.85</td>\n",
       "      <td>2</td>\n",
       "      <td>1.930500e+09</td>\n",
       "      <td>2</td>\n",
       "      <td>2020</td>\n",
       "      <td>...</td>\n",
       "      <td>8</td>\n",
       "      <td>2020</td>\n",
       "      <td>2</td>\n",
       "      <td>8</td>\n",
       "      <td>2020</td>\n",
       "      <td>2</td>\n",
       "      <td>8</td>\n",
       "      <td>2020</td>\n",
       "      <td>2</td>\n",
       "      <td>1</td>\n",
       "    </tr>\n",
       "  </tbody>\n",
       "</table>\n",
       "<p>5 rows × 27 columns</p>\n",
       "</div>"
      ],
      "text/plain": [
       "   business_code  cust_number  buisness_year        doc_id  invoice_currency  \\\n",
       "0              1            0         2020.0  1.930493e+09                 1   \n",
       "1              1            1         2019.0  1.929881e+09                 1   \n",
       "2              1            2         2019.0  1.930205e+09                 1   \n",
       "3              1            3         2020.0  1.930548e+09                 1   \n",
       "4              1            4         2020.0  1.930500e+09                 1   \n",
       "\n",
       "   total_open_amount  cust_payment_terms    invoice_id  Target  \\\n",
       "0            9318.24                   0  1.930493e+09      -7   \n",
       "1           20568.01                   0  1.929881e+09       0   \n",
       "2            1871.45                   1  1.930205e+09       2   \n",
       "3            3912.71                   0  1.930548e+09       3   \n",
       "4           19953.85                   2  1.930500e+09       2   \n",
       "\n",
       "   posting_date_year  ...  document_create_date_day  \\\n",
       "0               2020  ...                         7   \n",
       "1               2019  ...                        17   \n",
       "2               2019  ...                        30   \n",
       "3               2020  ...                        19   \n",
       "4               2020  ...                         8   \n",
       "\n",
       "   document_create_date.1_year  document_create_date.1_month  \\\n",
       "0                         2020                             2   \n",
       "1                         2019                             9   \n",
       "2                         2019                            11   \n",
       "3                         2020                             2   \n",
       "4                         2020                             2   \n",
       "\n",
       "   document_create_date.1_day  due_in_date_year  due_in_date_month  \\\n",
       "0                          12              2020                  2   \n",
       "1                          19              2019                 10   \n",
       "2                          30              2019                 12   \n",
       "3                          20              2020                  3   \n",
       "4                           8              2020                  2   \n",
       "\n",
       "   due_in_date_day  baseline_create_date_year  baseline_create_date_month  \\\n",
       "0               27                       2020                           2   \n",
       "1                4                       2019                           9   \n",
       "2               15                       2019                          11   \n",
       "3                6                       2020                           2   \n",
       "4                8                       2020                           2   \n",
       "\n",
       "   baseline_create_date_day  \n",
       "0                        12  \n",
       "1                        19  \n",
       "2                        30  \n",
       "3                        20  \n",
       "4                         1  \n",
       "\n",
       "[5 rows x 27 columns]"
      ]
     },
     "execution_count": 58,
     "metadata": {},
     "output_type": "execute_result"
    }
   ],
   "source": [
    "df.head()"
   ]
  },
  {
   "cell_type": "code",
   "execution_count": null,
   "metadata": {},
   "outputs": [],
   "source": []
  },
  {
   "cell_type": "code",
   "execution_count": null,
   "metadata": {},
   "outputs": [],
   "source": []
  },
  {
   "cell_type": "code",
   "execution_count": 59,
   "metadata": {},
   "outputs": [],
   "source": [
    "# ML with Linear Regression"
   ]
  },
  {
   "cell_type": "code",
   "execution_count": 60,
   "metadata": {},
   "outputs": [],
   "source": [
    "from sklearn.linear_model import LinearRegression"
   ]
  },
  {
   "cell_type": "code",
   "execution_count": 61,
   "metadata": {},
   "outputs": [],
   "source": [
    "lm = LinearRegression()"
   ]
  },
  {
   "cell_type": "code",
   "execution_count": 62,
   "metadata": {},
   "outputs": [],
   "source": [
    "from sklearn.model_selection import train_test_split"
   ]
  },
  {
   "cell_type": "code",
   "execution_count": 63,
   "metadata": {},
   "outputs": [],
   "source": [
    "X = df.drop(['Target'],axis=1)\n",
    "y = df['Target']\n",
    "X_train, X_test, y_train, y_test = train_test_split(X, y, test_size=0.33, random_state=42)"
   ]
  },
  {
   "cell_type": "code",
   "execution_count": 64,
   "metadata": {},
   "outputs": [
    {
     "data": {
      "text/plain": [
       "LinearRegression(copy_X=True, fit_intercept=True, n_jobs=None, normalize=False)"
      ]
     },
     "execution_count": 64,
     "metadata": {},
     "output_type": "execute_result"
    }
   ],
   "source": [
    "lm.fit(X_train,y_train)"
   ]
  },
  {
   "cell_type": "code",
   "execution_count": 65,
   "metadata": {},
   "outputs": [],
   "source": [
    "predictions = lm.predict(X_test)"
   ]
  },
  {
   "cell_type": "code",
   "execution_count": 66,
   "metadata": {},
   "outputs": [
    {
     "data": {
      "text/plain": [
       "array([ 5.01531889e+00, -2.35252405e+00,  1.54376479e-02, ...,\n",
       "       -2.04206822e-03,  4.22390242e-03,  1.98251074e+00])"
      ]
     },
     "execution_count": 66,
     "metadata": {},
     "output_type": "execute_result"
    }
   ],
   "source": [
    "#predictions = int(predictions)\n",
    "predictions"
   ]
  },
  {
   "cell_type": "code",
   "execution_count": 67,
   "metadata": {},
   "outputs": [],
   "source": [
    "pred = list()\n",
    "for ii in predictions:\n",
    "    pred.append(int(ii))"
   ]
  },
  {
   "cell_type": "code",
   "execution_count": 68,
   "metadata": {},
   "outputs": [],
   "source": [
    "from sklearn.metrics import confusion_matrix, classification_report"
   ]
  },
  {
   "cell_type": "code",
   "execution_count": 69,
   "metadata": {},
   "outputs": [
    {
     "data": {
      "text/plain": [
       "<matplotlib.collections.PathCollection at 0x2e29a73af48>"
      ]
     },
     "execution_count": 69,
     "metadata": {},
     "output_type": "execute_result"
    },
    {
     "data": {
      "image/png": "[encoded data removed]",
      "text/plain": [
       "<Figure size 720x504 with 1 Axes>"
      ]
     },
     "metadata": {
      "needs_background": "light"
     },
     "output_type": "display_data"
    }
   ],
   "source": [
    "plt.figure(figsize=(10,7))\n",
    "plt.xlabel('Y test')\n",
    "plt.ylabel('Predictions')\n",
    "plt.scatter(y_test,pred,c='purple')"
   ]
  },
  {
   "cell_type": "code",
   "execution_count": null,
   "metadata": {},
   "outputs": [],
   "source": []
  },
  {
   "cell_type": "code",
   "execution_count": null,
   "metadata": {},
   "outputs": [],
   "source": []
  },
  {
   "cell_type": "code",
   "execution_count": 70,
   "metadata": {},
   "outputs": [],
   "source": [
    "# ML with Random Forrest"
   ]
  },
  {
   "cell_type": "code",
   "execution_count": 71,
   "metadata": {},
   "outputs": [],
   "source": [
    "from sklearn.ensemble import RandomForestClassifier"
   ]
  },
  {
   "cell_type": "code",
   "execution_count": 72,
   "metadata": {},
   "outputs": [],
   "source": [
    "rfc = RandomForestClassifier()"
   ]
  },
  {
   "cell_type": "code",
   "execution_count": 73,
   "metadata": {},
   "outputs": [
    {
     "name": "stderr",
     "output_type": "stream",
     "text": [
      "C:\\Users\\KIIT\\Anaconda3\\lib\\site-packages\\sklearn\\ensemble\\forest.py:245: FutureWarning: The default value of n_estimators will change from 10 in version 0.20 to 100 in 0.22.\n",
      "  \"10 in version 0.20 to 100 in 0.22.\", FutureWarning)\n"
     ]
    },
    {
     "data": {
      "text/plain": [
       "RandomForestClassifier(bootstrap=True, class_weight=None, criterion='gini',\n",
       "                       max_depth=None, max_features='auto', max_leaf_nodes=None,\n",
       "                       min_impurity_decrease=0.0, min_impurity_split=None,\n",
       "                       min_samples_leaf=1, min_samples_split=2,\n",
       "                       min_weight_fraction_leaf=0.0, n_estimators=10,\n",
       "                       n_jobs=None, oob_score=False, random_state=None,\n",
       "                       verbose=0, warm_start=False)"
      ]
     },
     "execution_count": 73,
     "metadata": {},
     "output_type": "execute_result"
    }
   ],
   "source": [
    "rfc.fit(X_train,y_train)"
   ]
  },
  {
   "cell_type": "code",
   "execution_count": 74,
   "metadata": {},
   "outputs": [],
   "source": [
    "rfc_pred = rfc.predict(X_test)"
   ]
  },
  {
   "cell_type": "code",
   "execution_count": 75,
   "metadata": {},
   "outputs": [
    {
     "data": {
      "text/plain": [
       "array([ 0, -4,  0, ...,  0,  0,  1], dtype=int64)"
      ]
     },
     "execution_count": 75,
     "metadata": {},
     "output_type": "execute_result"
    }
   ],
   "source": [
    "rfc_pred"
   ]
  },
  {
   "cell_type": "code",
   "execution_count": 76,
   "metadata": {},
   "outputs": [
    {
     "data": {
      "text/plain": [
       "<matplotlib.collections.PathCollection at 0x2e29a743b08>"
      ]
     },
     "execution_count": 76,
     "metadata": {},
     "output_type": "execute_result"
    },
    {
     "data": {
      "image/png": "[encoded data removed]",
      "text/plain": [
       "<Figure size 432x288 with 1 Axes>"
      ]
     },
     "metadata": {
      "needs_background": "light"
     },
     "output_type": "display_data"
    }
   ],
   "source": [
    "plt.xlabel('Y test')\n",
    "plt.ylabel('Predictions')\n",
    "plt.scatter(y_test,rfc_pred,c='pink')"
   ]
  },
  {
   "cell_type": "code",
   "execution_count": null,
   "metadata": {},
   "outputs": [],
   "source": []
  },
  {
   "cell_type": "code",
   "execution_count": null,
   "metadata": {},
   "outputs": [],
   "source": []
  }
 ],
 "metadata": {
  "kernelspec": {
   "display_name": "Python 3",
   "language": "python",
   "name": "python3"
  },
  "language_info": {
   "codemirror_mode": {
    "name": "ipython",
    "version": 3
   },
   "file_extension": ".py",
   "mimetype": "text/x-python",
   "name": "python",
   "nbconvert_exporter": "python",
   "pygments_lexer": "ipython3",
   "version": "3.7.4"
  }
 },
 "nbformat": 4,
 "nbformat_minor": 2
}
